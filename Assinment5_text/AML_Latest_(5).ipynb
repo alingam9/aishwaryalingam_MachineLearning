{
  "cells": [
    {
      "cell_type": "markdown",
      "metadata": {
        "id": "Gk9HNM2nx2SB"
      },
      "source": [
        "This is a companion notebook for the book [Deep Learning with Python, Second Edition](https://www.manning.com/books/deep-learning-with-python-second-edition?a_aid=keras&a_bid=76564dff). For readability, it only contains runnable code blocks and section titles, and omits everything else in the book: text paragraphs, figures, and pseudocode.\n",
        "\n",
        "**If you want to be able to follow what's going on, I recommend reading the notebook side by side with your copy of the book.**\n",
        "\n",
        "This notebook was generated for TensorFlow 2.6."
      ]
    },
    {
      "cell_type": "markdown",
      "metadata": {
        "id": "OaWMUS4Qx2SF"
      },
      "source": [
        "### Processing words as a sequence: The sequence model approach"
      ]
    },
    {
      "cell_type": "markdown",
      "metadata": {
        "id": "u4VDnItpx2SG"
      },
      "source": [
        "#### A first practical example"
      ]
    },
    {
      "cell_type": "markdown",
      "metadata": {
        "id": "d-HKEG7Px2SG"
      },
      "source": [
        "**Downloading the data**"
      ]
    },
    {
      "cell_type": "code",
      "execution_count": 1,
      "metadata": {
        "colab": {
          "base_uri": "https://localhost:8080/"
        },
        "id": "nvZGVLgzx2SH",
        "outputId": "9c860315-aef6-4056-aa2c-55c7570ef68f"
      },
      "outputs": [
        {
          "output_type": "stream",
          "name": "stdout",
          "text": [
            "  % Total    % Received % Xferd  Average Speed   Time    Time     Time  Current\n",
            "                                 Dload  Upload   Total   Spent    Left  Speed\n",
            "100 80.2M  100 80.2M    0     0  14.5M      0  0:00:05  0:00:05 --:--:-- 18.1M\n"
          ]
        }
      ],
      "source": [
        "!curl -O https://ai.stanford.edu/~amaas/data/sentiment/aclImdb_v1.tar.gz\n",
        "!tar -xf aclImdb_v1.tar.gz\n",
        "!rm -r aclImdb/train/unsup"
      ]
    },
    {
      "cell_type": "markdown",
      "metadata": {
        "id": "XfzLhS44x2SI"
      },
      "source": [
        "**Preparing the data**"
      ]
    },
    {
      "cell_type": "code",
      "execution_count": 2,
      "metadata": {
        "colab": {
          "base_uri": "https://localhost:8080/"
        },
        "id": "ld_tEDwbx2SI",
        "outputId": "d6bf621f-b3c8-4760-9fd5-b867b00491cd"
      },
      "outputs": [
        {
          "output_type": "stream",
          "name": "stdout",
          "text": [
            "Found 20000 files belonging to 2 classes.\n",
            "Found 5000 files belonging to 2 classes.\n",
            "Found 25000 files belonging to 2 classes.\n"
          ]
        }
      ],
      "source": [
        "import os, pathlib, shutil, random\n",
        "from tensorflow import keras\n",
        "batch_size = 32\n",
        "base_dir = pathlib.Path(\"aclImdb\")\n",
        "val_dir = base_dir / \"val\"\n",
        "train_dir = base_dir / \"train\"\n",
        "for category in (\"neg\", \"pos\"):\n",
        "    os.makedirs(val_dir / category)\n",
        "    files = os.listdir(train_dir / category)\n",
        "    random.Random(1337).shuffle(files)\n",
        "    num_val_samples = int(0.2 * len(files))\n",
        "    val_files = files[-num_val_samples:]\n",
        "    for fname in val_files:\n",
        "        shutil.move(train_dir / category / fname,\n",
        "                    val_dir / category / fname)\n",
        "\n",
        "train_ds = keras.utils.text_dataset_from_directory(\n",
        "    \"aclImdb/train\", batch_size=batch_size\n",
        ")\n",
        "val_ds = keras.utils.text_dataset_from_directory(\n",
        "    \"aclImdb/val\", batch_size=batch_size\n",
        ")\n",
        "test_ds = keras.utils.text_dataset_from_directory(\n",
        "    \"aclImdb/test\", batch_size=batch_size\n",
        ")\n",
        "text_only_train_ds = train_ds.map(lambda x, y: x)"
      ]
    },
    {
      "cell_type": "markdown",
      "metadata": {
        "id": "_OwhniQjx2SJ"
      },
      "source": [
        "**Preparing integer sequence datasets**"
      ]
    },
    {
      "cell_type": "code",
      "execution_count": 3,
      "metadata": {
        "id": "xheU9r7xx2SJ"
      },
      "outputs": [],
      "source": [
        "from tensorflow.keras import layers\n",
        "\n",
        "max_length = 600\n",
        "max_tokens = 20000\n",
        "text_vectorization = layers.TextVectorization(\n",
        "    max_tokens=max_tokens,\n",
        "    output_mode=\"int\",\n",
        "    output_sequence_length=max_length,\n",
        ")\n",
        "text_vectorization.adapt(text_only_train_ds)\n",
        "\n",
        "int_train_ds = train_ds.map(\n",
        "    lambda x, y: (text_vectorization(x), y),\n",
        "    num_parallel_calls=4)\n",
        "int_val_ds = val_ds.map(\n",
        "    lambda x, y: (text_vectorization(x), y),\n",
        "    num_parallel_calls=4)\n",
        "int_test_ds = test_ds.map(\n",
        "    lambda x, y: (text_vectorization(x), y),\n",
        "    num_parallel_calls=4)"
      ]
    },
    {
      "cell_type": "code",
      "execution_count": 4,
      "metadata": {
        "id": "3AGxdZrUy2jB",
        "colab": {
          "base_uri": "https://localhost:8080/",
          "height": 1000
        },
        "outputId": "cac0ab65-4a68-41dc-d109-5e0ffa3f1f42"
      },
      "outputs": [
        {
          "output_type": "stream",
          "name": "stdout",
          "text": [
            "Collecting tensorflow==2.12\n",
            "  Downloading tensorflow-2.12.0-cp311-cp311-manylinux_2_17_x86_64.manylinux2014_x86_64.whl.metadata (3.4 kB)\n",
            "Requirement already satisfied: absl-py>=1.0.0 in /usr/local/lib/python3.11/dist-packages (from tensorflow==2.12) (1.4.0)\n",
            "Requirement already satisfied: astunparse>=1.6.0 in /usr/local/lib/python3.11/dist-packages (from tensorflow==2.12) (1.6.3)\n",
            "Requirement already satisfied: flatbuffers>=2.0 in /usr/local/lib/python3.11/dist-packages (from tensorflow==2.12) (25.2.10)\n",
            "Collecting gast<=0.4.0,>=0.2.1 (from tensorflow==2.12)\n",
            "  Downloading gast-0.4.0-py3-none-any.whl.metadata (1.1 kB)\n",
            "Requirement already satisfied: google-pasta>=0.1.1 in /usr/local/lib/python3.11/dist-packages (from tensorflow==2.12) (0.2.0)\n",
            "Requirement already satisfied: grpcio<2.0,>=1.24.3 in /usr/local/lib/python3.11/dist-packages (from tensorflow==2.12) (1.71.0)\n",
            "Requirement already satisfied: h5py>=2.9.0 in /usr/local/lib/python3.11/dist-packages (from tensorflow==2.12) (3.13.0)\n",
            "Requirement already satisfied: jax>=0.3.15 in /usr/local/lib/python3.11/dist-packages (from tensorflow==2.12) (0.5.2)\n",
            "Collecting keras<2.13,>=2.12.0 (from tensorflow==2.12)\n",
            "  Downloading keras-2.12.0-py2.py3-none-any.whl.metadata (1.4 kB)\n",
            "Requirement already satisfied: libclang>=13.0.0 in /usr/local/lib/python3.11/dist-packages (from tensorflow==2.12) (18.1.1)\n",
            "Collecting numpy<1.24,>=1.22 (from tensorflow==2.12)\n",
            "  Downloading numpy-1.23.5-cp311-cp311-manylinux_2_17_x86_64.manylinux2014_x86_64.whl.metadata (2.3 kB)\n",
            "Requirement already satisfied: opt-einsum>=2.3.2 in /usr/local/lib/python3.11/dist-packages (from tensorflow==2.12) (3.4.0)\n",
            "Requirement already satisfied: packaging in /usr/local/lib/python3.11/dist-packages (from tensorflow==2.12) (24.2)\n",
            "Collecting protobuf!=4.21.0,!=4.21.1,!=4.21.2,!=4.21.3,!=4.21.4,!=4.21.5,<5.0.0dev,>=3.20.3 (from tensorflow==2.12)\n",
            "  Downloading protobuf-4.25.6-cp37-abi3-manylinux2014_x86_64.whl.metadata (541 bytes)\n",
            "Requirement already satisfied: setuptools in /usr/local/lib/python3.11/dist-packages (from tensorflow==2.12) (75.2.0)\n",
            "Requirement already satisfied: six>=1.12.0 in /usr/local/lib/python3.11/dist-packages (from tensorflow==2.12) (1.17.0)\n",
            "Collecting tensorboard<2.13,>=2.12 (from tensorflow==2.12)\n",
            "  Downloading tensorboard-2.12.3-py3-none-any.whl.metadata (1.8 kB)\n",
            "Collecting tensorflow-estimator<2.13,>=2.12.0 (from tensorflow==2.12)\n",
            "  Downloading tensorflow_estimator-2.12.0-py2.py3-none-any.whl.metadata (1.3 kB)\n",
            "Requirement already satisfied: termcolor>=1.1.0 in /usr/local/lib/python3.11/dist-packages (from tensorflow==2.12) (3.0.1)\n",
            "Requirement already satisfied: typing-extensions>=3.6.6 in /usr/local/lib/python3.11/dist-packages (from tensorflow==2.12) (4.13.1)\n",
            "Collecting wrapt<1.15,>=1.11.0 (from tensorflow==2.12)\n",
            "  Downloading wrapt-1.14.1-cp311-cp311-manylinux_2_5_x86_64.manylinux1_x86_64.manylinux_2_17_x86_64.manylinux2014_x86_64.whl.metadata (6.7 kB)\n",
            "Requirement already satisfied: tensorflow-io-gcs-filesystem>=0.23.1 in /usr/local/lib/python3.11/dist-packages (from tensorflow==2.12) (0.37.1)\n",
            "Requirement already satisfied: wheel<1.0,>=0.23.0 in /usr/local/lib/python3.11/dist-packages (from astunparse>=1.6.0->tensorflow==2.12) (0.45.1)\n",
            "Requirement already satisfied: jaxlib<=0.5.2,>=0.5.1 in /usr/local/lib/python3.11/dist-packages (from jax>=0.3.15->tensorflow==2.12) (0.5.1)\n",
            "Requirement already satisfied: ml_dtypes>=0.4.0 in /usr/local/lib/python3.11/dist-packages (from jax>=0.3.15->tensorflow==2.12) (0.4.1)\n",
            "INFO: pip is looking at multiple versions of jax to determine which version is compatible with other requirements. This could take a while.\n",
            "Collecting jax>=0.3.15 (from tensorflow==2.12)\n",
            "  Downloading jax-0.5.3-py3-none-any.whl.metadata (22 kB)\n",
            "Collecting jaxlib<=0.5.3,>=0.5.3 (from jax>=0.3.15->tensorflow==2.12)\n",
            "  Downloading jaxlib-0.5.3-cp311-cp311-manylinux2014_x86_64.whl.metadata (1.2 kB)\n",
            "Collecting jax>=0.3.15 (from tensorflow==2.12)\n",
            "  Downloading jax-0.5.1-py3-none-any.whl.metadata (22 kB)\n",
            "  Downloading jax-0.5.0-py3-none-any.whl.metadata (22 kB)\n",
            "Collecting jaxlib<=0.5.0,>=0.5.0 (from jax>=0.3.15->tensorflow==2.12)\n",
            "  Downloading jaxlib-0.5.0-cp311-cp311-manylinux2014_x86_64.whl.metadata (978 bytes)\n",
            "Collecting jax>=0.3.15 (from tensorflow==2.12)\n",
            "  Downloading jax-0.4.38-py3-none-any.whl.metadata (22 kB)\n",
            "Collecting jaxlib<=0.4.38,>=0.4.38 (from jax>=0.3.15->tensorflow==2.12)\n",
            "  Downloading jaxlib-0.4.38-cp311-cp311-manylinux2014_x86_64.whl.metadata (1.0 kB)\n",
            "Collecting jax>=0.3.15 (from tensorflow==2.12)\n",
            "  Downloading jax-0.4.37-py3-none-any.whl.metadata (22 kB)\n",
            "Collecting jaxlib<=0.4.37,>=0.4.36 (from jax>=0.3.15->tensorflow==2.12)\n",
            "  Downloading jaxlib-0.4.36-cp311-cp311-manylinux2014_x86_64.whl.metadata (1.0 kB)\n",
            "Collecting jax>=0.3.15 (from tensorflow==2.12)\n",
            "  Downloading jax-0.4.36-py3-none-any.whl.metadata (22 kB)\n",
            "  Downloading jax-0.4.35-py3-none-any.whl.metadata (22 kB)\n",
            "Collecting jaxlib<=0.4.35,>=0.4.34 (from jax>=0.3.15->tensorflow==2.12)\n",
            "  Downloading jaxlib-0.4.35-cp311-cp311-manylinux2014_x86_64.whl.metadata (983 bytes)\n",
            "INFO: pip is still looking at multiple versions of jax to determine which version is compatible with other requirements. This could take a while.\n",
            "Collecting jax>=0.3.15 (from tensorflow==2.12)\n",
            "  Downloading jax-0.4.34-py3-none-any.whl.metadata (22 kB)\n",
            "Collecting jaxlib<=0.4.34,>=0.4.34 (from jax>=0.3.15->tensorflow==2.12)\n",
            "  Downloading jaxlib-0.4.34-cp311-cp311-manylinux2014_x86_64.whl.metadata (983 bytes)\n",
            "Collecting jax>=0.3.15 (from tensorflow==2.12)\n",
            "  Downloading jax-0.4.33-py3-none-any.whl.metadata (22 kB)\n",
            "Collecting jaxlib<=0.4.33,>=0.4.33 (from jax>=0.3.15->tensorflow==2.12)\n",
            "  Downloading jaxlib-0.4.33-cp311-cp311-manylinux2014_x86_64.whl.metadata (983 bytes)\n",
            "Collecting jax>=0.3.15 (from tensorflow==2.12)\n",
            "  Downloading jax-0.4.31-py3-none-any.whl.metadata (22 kB)\n",
            "Collecting jaxlib<=0.4.31,>=0.4.30 (from jax>=0.3.15->tensorflow==2.12)\n",
            "  Downloading jaxlib-0.4.31-cp311-cp311-manylinux2014_x86_64.whl.metadata (983 bytes)\n",
            "Collecting jax>=0.3.15 (from tensorflow==2.12)\n",
            "  Downloading jax-0.4.30-py3-none-any.whl.metadata (22 kB)\n",
            "Collecting jaxlib<=0.4.30,>=0.4.27 (from jax>=0.3.15->tensorflow==2.12)\n",
            "  Downloading jaxlib-0.4.30-cp311-cp311-manylinux2014_x86_64.whl.metadata (1.0 kB)\n",
            "Requirement already satisfied: scipy>=1.9 in /usr/local/lib/python3.11/dist-packages (from jax>=0.3.15->tensorflow==2.12) (1.14.1)\n",
            "Requirement already satisfied: google-auth<3,>=1.6.3 in /usr/local/lib/python3.11/dist-packages (from tensorboard<2.13,>=2.12->tensorflow==2.12) (2.38.0)\n",
            "Collecting google-auth-oauthlib<1.1,>=0.5 (from tensorboard<2.13,>=2.12->tensorflow==2.12)\n",
            "  Downloading google_auth_oauthlib-1.0.0-py2.py3-none-any.whl.metadata (2.7 kB)\n",
            "Requirement already satisfied: markdown>=2.6.8 in /usr/local/lib/python3.11/dist-packages (from tensorboard<2.13,>=2.12->tensorflow==2.12) (3.7)\n",
            "Requirement already satisfied: requests<3,>=2.21.0 in /usr/local/lib/python3.11/dist-packages (from tensorboard<2.13,>=2.12->tensorflow==2.12) (2.32.3)\n",
            "Requirement already satisfied: tensorboard-data-server<0.8.0,>=0.7.0 in /usr/local/lib/python3.11/dist-packages (from tensorboard<2.13,>=2.12->tensorflow==2.12) (0.7.2)\n",
            "Requirement already satisfied: werkzeug>=1.0.1 in /usr/local/lib/python3.11/dist-packages (from tensorboard<2.13,>=2.12->tensorflow==2.12) (3.1.3)\n",
            "Requirement already satisfied: cachetools<6.0,>=2.0.0 in /usr/local/lib/python3.11/dist-packages (from google-auth<3,>=1.6.3->tensorboard<2.13,>=2.12->tensorflow==2.12) (5.5.2)\n",
            "Requirement already satisfied: pyasn1-modules>=0.2.1 in /usr/local/lib/python3.11/dist-packages (from google-auth<3,>=1.6.3->tensorboard<2.13,>=2.12->tensorflow==2.12) (0.4.2)\n",
            "Requirement already satisfied: rsa<5,>=3.1.4 in /usr/local/lib/python3.11/dist-packages (from google-auth<3,>=1.6.3->tensorboard<2.13,>=2.12->tensorflow==2.12) (4.9)\n",
            "Requirement already satisfied: requests-oauthlib>=0.7.0 in /usr/local/lib/python3.11/dist-packages (from google-auth-oauthlib<1.1,>=0.5->tensorboard<2.13,>=2.12->tensorflow==2.12) (2.0.0)\n",
            "Requirement already satisfied: charset-normalizer<4,>=2 in /usr/local/lib/python3.11/dist-packages (from requests<3,>=2.21.0->tensorboard<2.13,>=2.12->tensorflow==2.12) (3.4.1)\n",
            "Requirement already satisfied: idna<4,>=2.5 in /usr/local/lib/python3.11/dist-packages (from requests<3,>=2.21.0->tensorboard<2.13,>=2.12->tensorflow==2.12) (3.10)\n",
            "Requirement already satisfied: urllib3<3,>=1.21.1 in /usr/local/lib/python3.11/dist-packages (from requests<3,>=2.21.0->tensorboard<2.13,>=2.12->tensorflow==2.12) (2.3.0)\n",
            "Requirement already satisfied: certifi>=2017.4.17 in /usr/local/lib/python3.11/dist-packages (from requests<3,>=2.21.0->tensorboard<2.13,>=2.12->tensorflow==2.12) (2025.1.31)\n",
            "Requirement already satisfied: MarkupSafe>=2.1.1 in /usr/local/lib/python3.11/dist-packages (from werkzeug>=1.0.1->tensorboard<2.13,>=2.12->tensorflow==2.12) (3.0.2)\n",
            "Requirement already satisfied: pyasn1<0.7.0,>=0.6.1 in /usr/local/lib/python3.11/dist-packages (from pyasn1-modules>=0.2.1->google-auth<3,>=1.6.3->tensorboard<2.13,>=2.12->tensorflow==2.12) (0.6.1)\n",
            "Requirement already satisfied: oauthlib>=3.0.0 in /usr/local/lib/python3.11/dist-packages (from requests-oauthlib>=0.7.0->google-auth-oauthlib<1.1,>=0.5->tensorboard<2.13,>=2.12->tensorflow==2.12) (3.2.2)\n",
            "Downloading tensorflow-2.12.0-cp311-cp311-manylinux_2_17_x86_64.manylinux2014_x86_64.whl (586.0 MB)\n",
            "\u001b[2K   \u001b[90m━━━━━━━━━━━━━━━━━━━━━━━━━━━━━━━━━━━━━━━━\u001b[0m \u001b[32m586.0/586.0 MB\u001b[0m \u001b[31m3.1 MB/s\u001b[0m eta \u001b[36m0:00:00\u001b[0m\n",
            "\u001b[?25hDownloading gast-0.4.0-py3-none-any.whl (9.8 kB)\n",
            "Downloading jax-0.4.30-py3-none-any.whl (2.0 MB)\n",
            "\u001b[2K   \u001b[90m━━━━━━━━━━━━━━━━━━━━━━━━━━━━━━━━━━━━━━━━\u001b[0m \u001b[32m2.0/2.0 MB\u001b[0m \u001b[31m77.6 MB/s\u001b[0m eta \u001b[36m0:00:00\u001b[0m\n",
            "\u001b[?25hDownloading keras-2.12.0-py2.py3-none-any.whl (1.7 MB)\n",
            "\u001b[2K   \u001b[90m━━━━━━━━━━━━━━━━━━━━━━━━━━━━━━━━━━━━━━━━\u001b[0m \u001b[32m1.7/1.7 MB\u001b[0m \u001b[31m71.2 MB/s\u001b[0m eta \u001b[36m0:00:00\u001b[0m\n",
            "\u001b[?25hDownloading numpy-1.23.5-cp311-cp311-manylinux_2_17_x86_64.manylinux2014_x86_64.whl (17.1 MB)\n",
            "\u001b[2K   \u001b[90m━━━━━━━━━━━━━━━━━━━━━━━━━━━━━━━━━━━━━━━━\u001b[0m \u001b[32m17.1/17.1 MB\u001b[0m \u001b[31m82.4 MB/s\u001b[0m eta \u001b[36m0:00:00\u001b[0m\n",
            "\u001b[?25hDownloading protobuf-4.25.6-cp37-abi3-manylinux2014_x86_64.whl (294 kB)\n",
            "\u001b[2K   \u001b[90m━━━━━━━━━━━━━━━━━━━━━━━━━━━━━━━━━━━━━━━━\u001b[0m \u001b[32m294.6/294.6 kB\u001b[0m \u001b[31m20.1 MB/s\u001b[0m eta \u001b[36m0:00:00\u001b[0m\n",
            "\u001b[?25hDownloading tensorboard-2.12.3-py3-none-any.whl (5.6 MB)\n",
            "\u001b[2K   \u001b[90m━━━━━━━━━━━━━━━━━━━━━━━━━━━━━━━━━━━━━━━━\u001b[0m \u001b[32m5.6/5.6 MB\u001b[0m \u001b[31m103.1 MB/s\u001b[0m eta \u001b[36m0:00:00\u001b[0m\n",
            "\u001b[?25hDownloading tensorflow_estimator-2.12.0-py2.py3-none-any.whl (440 kB)\n",
            "\u001b[2K   \u001b[90m━━━━━━━━━━━━━━━━━━━━━━━━━━━━━━━━━━━━━━━━\u001b[0m \u001b[32m440.7/440.7 kB\u001b[0m \u001b[31m24.1 MB/s\u001b[0m eta \u001b[36m0:00:00\u001b[0m\n",
            "\u001b[?25hDownloading wrapt-1.14.1-cp311-cp311-manylinux_2_5_x86_64.manylinux1_x86_64.manylinux_2_17_x86_64.manylinux2014_x86_64.whl (78 kB)\n",
            "\u001b[2K   \u001b[90m━━━━━━━━━━━━━━━━━━━━━━━━━━━━━━━━━━━━━━━━\u001b[0m \u001b[32m78.4/78.4 kB\u001b[0m \u001b[31m6.1 MB/s\u001b[0m eta \u001b[36m0:00:00\u001b[0m\n",
            "\u001b[?25hDownloading google_auth_oauthlib-1.0.0-py2.py3-none-any.whl (18 kB)\n",
            "Downloading jaxlib-0.4.30-cp311-cp311-manylinux2014_x86_64.whl (79.6 MB)\n",
            "\u001b[2K   \u001b[90m━━━━━━━━━━━━━━━━━━━━━━━━━━━━━━━━━━━━━━━━\u001b[0m \u001b[32m79.6/79.6 MB\u001b[0m \u001b[31m10.1 MB/s\u001b[0m eta \u001b[36m0:00:00\u001b[0m\n",
            "\u001b[?25hInstalling collected packages: wrapt, tensorflow-estimator, protobuf, numpy, keras, gast, jaxlib, google-auth-oauthlib, tensorboard, jax, tensorflow\n",
            "  Attempting uninstall: wrapt\n",
            "    Found existing installation: wrapt 1.17.2\n",
            "    Uninstalling wrapt-1.17.2:\n",
            "      Successfully uninstalled wrapt-1.17.2\n",
            "  Attempting uninstall: protobuf\n",
            "    Found existing installation: protobuf 5.29.4\n",
            "    Uninstalling protobuf-5.29.4:\n",
            "      Successfully uninstalled protobuf-5.29.4\n",
            "  Attempting uninstall: numpy\n",
            "    Found existing installation: numpy 2.0.2\n",
            "    Uninstalling numpy-2.0.2:\n",
            "      Successfully uninstalled numpy-2.0.2\n",
            "  Attempting uninstall: keras\n",
            "    Found existing installation: keras 3.8.0\n",
            "    Uninstalling keras-3.8.0:\n",
            "      Successfully uninstalled keras-3.8.0\n",
            "  Attempting uninstall: gast\n",
            "    Found existing installation: gast 0.6.0\n",
            "    Uninstalling gast-0.6.0:\n",
            "      Successfully uninstalled gast-0.6.0\n",
            "  Attempting uninstall: jaxlib\n",
            "    Found existing installation: jaxlib 0.5.1\n",
            "    Uninstalling jaxlib-0.5.1:\n",
            "      Successfully uninstalled jaxlib-0.5.1\n",
            "  Attempting uninstall: google-auth-oauthlib\n",
            "    Found existing installation: google-auth-oauthlib 1.2.1\n",
            "    Uninstalling google-auth-oauthlib-1.2.1:\n",
            "      Successfully uninstalled google-auth-oauthlib-1.2.1\n",
            "  Attempting uninstall: tensorboard\n",
            "    Found existing installation: tensorboard 2.18.0\n",
            "    Uninstalling tensorboard-2.18.0:\n",
            "      Successfully uninstalled tensorboard-2.18.0\n",
            "  Attempting uninstall: jax\n",
            "    Found existing installation: jax 0.5.2\n",
            "    Uninstalling jax-0.5.2:\n",
            "      Successfully uninstalled jax-0.5.2\n",
            "  Attempting uninstall: tensorflow\n",
            "    Found existing installation: tensorflow 2.18.0\n",
            "    Uninstalling tensorflow-2.18.0:\n",
            "      Successfully uninstalled tensorflow-2.18.0\n",
            "\u001b[31mERROR: pip's dependency resolver does not currently take into account all the packages that are installed. This behaviour is the source of the following dependency conflicts.\n",
            "scikit-image 0.25.2 requires numpy>=1.24, but you have numpy 1.23.5 which is incompatible.\n",
            "xarray 2025.1.2 requires numpy>=1.24, but you have numpy 1.23.5 which is incompatible.\n",
            "tensorflow-text 2.18.1 requires tensorflow<2.19,>=2.18.0, but you have tensorflow 2.12.0 which is incompatible.\n",
            "pymc 5.21.2 requires numpy>=1.25.0, but you have numpy 1.23.5 which is incompatible.\n",
            "treescope 0.1.9 requires numpy>=1.25.2, but you have numpy 1.23.5 which is incompatible.\n",
            "orbax-checkpoint 0.11.10 requires jax>=0.5.0, but you have jax 0.4.30 which is incompatible.\n",
            "imbalanced-learn 0.13.0 requires numpy<3,>=1.24.3, but you have numpy 1.23.5 which is incompatible.\n",
            "albumentations 2.0.5 requires numpy>=1.24.4, but you have numpy 1.23.5 which is incompatible.\n",
            "flax 0.10.5 requires jax>=0.5.1, but you have jax 0.4.30 which is incompatible.\n",
            "blosc2 3.2.1 requires numpy>=1.26, but you have numpy 1.23.5 which is incompatible.\n",
            "albucore 0.0.23 requires numpy>=1.24.4, but you have numpy 1.23.5 which is incompatible.\n",
            "chex 0.1.89 requires numpy>=1.24.1, but you have numpy 1.23.5 which is incompatible.\n",
            "tf-keras 2.18.0 requires tensorflow<2.19,>=2.18, but you have tensorflow 2.12.0 which is incompatible.\n",
            "bigframes 1.42.0 requires numpy>=1.24.0, but you have numpy 1.23.5 which is incompatible.\n",
            "grpcio-status 1.71.0 requires protobuf<6.0dev,>=5.26.1, but you have protobuf 4.25.6 which is incompatible.\u001b[0m\u001b[31m\n",
            "\u001b[0mSuccessfully installed gast-0.4.0 google-auth-oauthlib-1.0.0 jax-0.4.30 jaxlib-0.4.30 keras-2.12.0 numpy-1.23.5 protobuf-4.25.6 tensorboard-2.12.3 tensorflow-2.12.0 tensorflow-estimator-2.12.0 wrapt-1.14.1\n"
          ]
        },
        {
          "output_type": "display_data",
          "data": {
            "application/vnd.colab-display-data+json": {
              "pip_warning": {
                "packages": [
                  "gast",
                  "jax",
                  "jaxlib",
                  "keras",
                  "numpy",
                  "tensorflow",
                  "wrapt"
                ]
              },
              "id": "08a29fdde71049c78c208c2dc7239576"
            }
          },
          "metadata": {}
        }
      ],
      "source": [
        "!pip install tensorflow==2.12\n",
        "\n"
      ]
    },
    {
      "cell_type": "code",
      "source": [
        "from tensorflow import keras\n",
        "from tensorflow.keras import layers\n",
        "from tensorflow.keras.preprocessing.sequence import pad_sequences\n",
        "from tensorflow.keras.callbacks import EarlyStopping\n",
        "from tensorflow.keras.callbacks import ModelCheckpoint\n",
        "from tensorflow.keras.optimizers import Adam\n",
        "from sklearn.model_selection import train_test_split\n",
        "from keras import preprocessing\n",
        "from keras.preprocessing.text import Tokenizer\n",
        "from keras.datasets import imdb\n",
        "from keras.models import Sequential\n",
        "from keras.layers import Flatten, Dense, Embedding, LSTM, Dropout\n",
        "from keras.models import load_model\n",
        "from keras.optimizers import RMSprop\n",
        "from google.colab import files\n",
        "import re, os"
      ],
      "metadata": {
        "id": "ZJz-_u1u--4o"
      },
      "execution_count": 1,
      "outputs": []
    },
    {
      "cell_type": "markdown",
      "metadata": {
        "id": "AoCOwwqP4IYi"
      },
      "source": [
        "Consider the IMDB example from Chapter 11 (Section 11.3, chapter11_part02_sequence-\n",
        "models.ipynb). Re-run the example modifying the following:\n",
        "1) Cutoff reviews after 150 words\n",
        "2) Restrict training samples to 100\n",
        "3) Validate on 10,000 samples\n",
        "4) Consider only the top 10,000 words"
      ]
    },
    {
      "cell_type": "code",
      "execution_count": 2,
      "metadata": {
        "colab": {
          "base_uri": "https://localhost:8080/"
        },
        "id": "tnWV2Ihy4KtC",
        "outputId": "552889ec-9cb8-498d-df99-ab80a11c976a"
      },
      "outputs": [
        {
          "output_type": "stream",
          "name": "stdout",
          "text": [
            "Downloading data from https://storage.googleapis.com/tensorflow/tf-keras-datasets/imdb.npz\n",
            "17464789/17464789 [==============================] - 0s 0us/step\n"
          ]
        }
      ],
      "source": [
        "from tensorflow.keras.datasets import imdb\n",
        "from tensorflow.keras.preprocessing.sequence import pad_sequences\n",
        "from sklearn.model_selection import train_test_split\n",
        "import numpy as np\n",
        "\n",
        "# Parameters\n",
        "VOCAB_SIZE = 10000  # Top 10,000 words\n",
        "MAX_REVIEW_LENGTH = 150  # Cutoff reviews after 150 words\n",
        "TRAIN_SAMPLES = 100  # Restrict training samples to 100\n",
        "VAL_SAMPLES = 10000  # Validate on 10,000 samples\n",
        "\n",
        "# Load and prepare the data\n",
        "(x_train_original, y_train_original), (x_test_original, y_test_original) = imdb.load_data(num_words=VOCAB_SIZE)\n",
        "\n",
        "# Pad sequences to MAX_REVIEW_LENGTH\n",
        "x_train_padded = pad_sequences(x_train_original, maxlen=MAX_REVIEW_LENGTH)\n",
        "x_test_padded = pad_sequences(x_test_original, maxlen=MAX_REVIEW_LENGTH)\n",
        "\n",
        "# Combine all data for stratified splitting\n",
        "x_all = np.concatenate((x_train_padded, x_test_padded), axis=0)\n",
        "y_all = np.concatenate((y_train_original, y_test_original), axis=0)\n",
        "\n",
        "# Create small training set and validation set\n",
        "x_small_train, x_val, y_small_train, y_val = train_test_split(\n",
        "    x_all, y_all,\n",
        "    train_size=TRAIN_SAMPLES,\n",
        "    test_size=VAL_SAMPLES,\n",
        "    random_state=42,\n",
        "    stratify=y_all\n",
        ")\n",
        "\n",
        "# Create final test set (5000 samples)\n",
        "_, x_final_test, _, y_final_test = train_test_split(\n",
        "    x_test_padded, y_test_original,\n",
        "    test_size=5000,\n",
        "    random_state=42,\n",
        "    stratify=y_test_original\n",
        ")"
      ]
    },
    {
      "cell_type": "code",
      "execution_count": 3,
      "metadata": {
        "colab": {
          "base_uri": "https://localhost:8080/"
        },
        "id": "mAE1zTz17rEL",
        "outputId": "f26fa20f-0c09-4fcb-acba-0941c6b450e0"
      },
      "outputs": [
        {
          "output_type": "execute_result",
          "data": {
            "text/plain": [
              "(100, 150)"
            ]
          },
          "metadata": {},
          "execution_count": 3
        }
      ],
      "source": [
        "x_small_train.shape"
      ]
    },
    {
      "cell_type": "code",
      "execution_count": 4,
      "metadata": {
        "colab": {
          "base_uri": "https://localhost:8080/"
        },
        "id": "4DlSwVLe7uHB",
        "outputId": "576b8ba5-8f03-445c-d8a1-c6a4596a4f12"
      },
      "outputs": [
        {
          "output_type": "execute_result",
          "data": {
            "text/plain": [
              "(10000, 150)"
            ]
          },
          "metadata": {},
          "execution_count": 4
        }
      ],
      "source": [
        "x_val.shape"
      ]
    },
    {
      "cell_type": "code",
      "execution_count": 5,
      "metadata": {
        "colab": {
          "base_uri": "https://localhost:8080/"
        },
        "id": "eX48H9bB75aN",
        "outputId": "93d1eba9-3994-4674-b99d-51149a94b7dc"
      },
      "outputs": [
        {
          "output_type": "execute_result",
          "data": {
            "text/plain": [
              "(5000, 150)"
            ]
          },
          "metadata": {},
          "execution_count": 5
        }
      ],
      "source": [
        "x_final_test.shape\n"
      ]
    },
    {
      "cell_type": "markdown",
      "metadata": {
        "id": "76mA05Pj8Auq"
      },
      "source": [
        "Building the model"
      ]
    },
    {
      "cell_type": "code",
      "execution_count": 6,
      "metadata": {
        "colab": {
          "base_uri": "https://localhost:8080/"
        },
        "id": "MsZ64G4m8DUu",
        "outputId": "321f7112-2508-436e-d74d-00fba019f80a"
      },
      "outputs": [
        {
          "output_type": "stream",
          "name": "stdout",
          "text": [
            "Model: \"sequential\"\n",
            "_________________________________________________________________\n",
            " Layer (type)                Output Shape              Param #   \n",
            "=================================================================\n",
            " embedding (Embedding)       (None, 150, 8)            80000     \n",
            "                                                                 \n",
            " flatten (Flatten)           (None, 1200)              0         \n",
            "                                                                 \n",
            " dense (Dense)               (None, 1)                 1201      \n",
            "                                                                 \n",
            "=================================================================\n",
            "Total params: 81,201\n",
            "Trainable params: 81,201\n",
            "Non-trainable params: 0\n",
            "_________________________________________________________________\n"
          ]
        }
      ],
      "source": [
        "from tensorflow.keras.models import Sequential\n",
        "from tensorflow.keras.layers import Embedding, Flatten, Dense\n",
        "\n",
        "# Define the sentiment analysis model\n",
        "sentiment_classifier = Sequential()\n",
        "\n",
        "# Add embedding layer with 10,000 word vocabulary, 8-dimensional embeddings\n",
        "sentiment_classifier.add(Embedding(\n",
        "    input_dim=VOCAB_SIZE,         # Top 10,000 words\n",
        "    output_dim=8,                  # 8-dimensional embedding vectors\n",
        "    input_length=MAX_REVIEW_LENGTH # Input sequence length of 150 words\n",
        "))\n",
        "\n",
        "# Flatten the 3D tensor of embeddings into 2D\n",
        "sentiment_classifier.add(Flatten())\n",
        "\n",
        "# Final classification layer with sigmoid activation\n",
        "sentiment_classifier.add(Dense(\n",
        "    units=1,                      # Single output unit (positive/negative)\n",
        "    activation='sigmoid'          # Sigmoid for binary classification\n",
        "))\n",
        "\n",
        "# Compile the model with RMSprop optimizer\n",
        "sentiment_classifier.compile(\n",
        "    optimizer='rmsprop',\n",
        "    loss='binary_crossentropy',   # Binary crossentropy for binary classification\n",
        "    metrics=['accuracy']          # Track accuracy during training\n",
        ")\n",
        "\n",
        "# Display model architecture\n",
        "sentiment_classifier.summary()"
      ]
    },
    {
      "cell_type": "markdown",
      "metadata": {
        "id": "_I8qrqkI8tM5"
      },
      "source": [
        "Executing the model"
      ]
    },
    {
      "cell_type": "code",
      "execution_count": 7,
      "metadata": {
        "colab": {
          "base_uri": "https://localhost:8080/"
        },
        "id": "3oivsHN58vjT",
        "outputId": "e333ee0f-e820-46cf-9a97-9c97e149b3ab"
      },
      "outputs": [
        {
          "output_type": "stream",
          "name": "stdout",
          "text": [
            "Epoch 1/30\n",
            "4/4 [==============================] - 1s 159ms/step - loss: 0.6941 - accuracy: 0.4800 - val_loss: 0.6930 - val_accuracy: 0.5098\n",
            "Epoch 2/30\n",
            "4/4 [==============================] - 0s 113ms/step - loss: 0.6724 - accuracy: 0.8400 - val_loss: 0.6930 - val_accuracy: 0.5101\n",
            "Epoch 3/30\n",
            "4/4 [==============================] - 0s 110ms/step - loss: 0.6568 - accuracy: 0.9600 - val_loss: 0.6930 - val_accuracy: 0.5118\n",
            "Epoch 4/30\n",
            "4/4 [==============================] - 0s 97ms/step - loss: 0.6436 - accuracy: 0.9800 - val_loss: 0.6930 - val_accuracy: 0.5083\n",
            "Epoch 5/30\n",
            "4/4 [==============================] - 0s 95ms/step - loss: 0.6304 - accuracy: 0.9900 - val_loss: 0.6930 - val_accuracy: 0.5048\n",
            "Epoch 6/30\n",
            "4/4 [==============================] - 0s 109ms/step - loss: 0.6176 - accuracy: 1.0000 - val_loss: 0.6931 - val_accuracy: 0.5039\n",
            "Epoch 7/30\n",
            "4/4 [==============================] - 0s 109ms/step - loss: 0.6047 - accuracy: 1.0000 - val_loss: 0.6931 - val_accuracy: 0.5059\n",
            "Epoch 8/30\n",
            "4/4 [==============================] - 0s 91ms/step - loss: 0.5913 - accuracy: 1.0000 - val_loss: 0.6931 - val_accuracy: 0.5029\n",
            "Epoch 9/30\n",
            "4/4 [==============================] - 0s 110ms/step - loss: 0.5781 - accuracy: 1.0000 - val_loss: 0.6931 - val_accuracy: 0.5060\n",
            "Epoch 10/30\n",
            "4/4 [==============================] - 0s 111ms/step - loss: 0.5632 - accuracy: 1.0000 - val_loss: 0.6930 - val_accuracy: 0.5081\n",
            "Epoch 11/30\n",
            "4/4 [==============================] - 0s 113ms/step - loss: 0.5487 - accuracy: 1.0000 - val_loss: 0.6929 - val_accuracy: 0.5087\n",
            "Epoch 12/30\n",
            "4/4 [==============================] - 0s 92ms/step - loss: 0.5330 - accuracy: 1.0000 - val_loss: 0.6930 - val_accuracy: 0.5078\n",
            "Epoch 13/30\n",
            "4/4 [==============================] - 0s 90ms/step - loss: 0.5173 - accuracy: 1.0000 - val_loss: 0.6930 - val_accuracy: 0.5079\n",
            "Epoch 14/30\n",
            "4/4 [==============================] - 0s 110ms/step - loss: 0.5012 - accuracy: 1.0000 - val_loss: 0.6931 - val_accuracy: 0.5071\n",
            "Epoch 15/30\n",
            "4/4 [==============================] - 0s 94ms/step - loss: 0.4846 - accuracy: 1.0000 - val_loss: 0.6932 - val_accuracy: 0.5069\n",
            "Epoch 16/30\n",
            "4/4 [==============================] - 0s 109ms/step - loss: 0.4684 - accuracy: 1.0000 - val_loss: 0.6933 - val_accuracy: 0.5069\n",
            "Epoch 17/30\n",
            "4/4 [==============================] - 0s 108ms/step - loss: 0.4513 - accuracy: 1.0000 - val_loss: 0.6933 - val_accuracy: 0.5083\n",
            "Epoch 18/30\n",
            "4/4 [==============================] - 0s 108ms/step - loss: 0.4342 - accuracy: 1.0000 - val_loss: 0.6934 - val_accuracy: 0.5076\n",
            "Epoch 19/30\n",
            "4/4 [==============================] - 0s 97ms/step - loss: 0.4166 - accuracy: 1.0000 - val_loss: 0.6935 - val_accuracy: 0.5083\n",
            "Epoch 20/30\n",
            "4/4 [==============================] - 0s 109ms/step - loss: 0.3992 - accuracy: 1.0000 - val_loss: 0.6935 - val_accuracy: 0.5083\n",
            "Epoch 21/30\n",
            "4/4 [==============================] - 0s 93ms/step - loss: 0.3816 - accuracy: 1.0000 - val_loss: 0.6935 - val_accuracy: 0.5078\n",
            "Epoch 22/30\n",
            "4/4 [==============================] - 0s 110ms/step - loss: 0.3644 - accuracy: 1.0000 - val_loss: 0.6936 - val_accuracy: 0.5090\n",
            "Epoch 23/30\n",
            "4/4 [==============================] - 0s 95ms/step - loss: 0.3473 - accuracy: 1.0000 - val_loss: 0.6937 - val_accuracy: 0.5077\n",
            "Epoch 24/30\n",
            "4/4 [==============================] - 0s 97ms/step - loss: 0.3303 - accuracy: 1.0000 - val_loss: 0.6938 - val_accuracy: 0.5097\n",
            "Epoch 25/30\n",
            "4/4 [==============================] - 0s 110ms/step - loss: 0.3139 - accuracy: 1.0000 - val_loss: 0.6941 - val_accuracy: 0.5102\n",
            "Epoch 26/30\n",
            "4/4 [==============================] - 0s 94ms/step - loss: 0.2980 - accuracy: 1.0000 - val_loss: 0.6944 - val_accuracy: 0.5097\n",
            "Epoch 27/30\n",
            "4/4 [==============================] - 0s 111ms/step - loss: 0.2825 - accuracy: 1.0000 - val_loss: 0.6945 - val_accuracy: 0.5102\n",
            "Epoch 28/30\n",
            "4/4 [==============================] - 0s 108ms/step - loss: 0.2673 - accuracy: 1.0000 - val_loss: 0.6947 - val_accuracy: 0.5104\n",
            "Epoch 29/30\n",
            "4/4 [==============================] - 0s 98ms/step - loss: 0.2526 - accuracy: 1.0000 - val_loss: 0.6951 - val_accuracy: 0.5083\n",
            "Epoch 30/30\n",
            "4/4 [==============================] - 1s 219ms/step - loss: 0.2385 - accuracy: 1.0000 - val_loss: 0.6953 - val_accuracy: 0.5097\n"
          ]
        }
      ],
      "source": [
        "from tensorflow.keras.callbacks import ModelCheckpoint\n",
        "\n",
        "checkpoint_callback = ModelCheckpoint(\n",
        "    filepath=\"sentiment_classifier.h5\",\n",
        "    save_best_only=True,\n",
        "    monitor=\"val_loss\"\n",
        ")\n",
        "\n",
        "train_history = sentiment_classifier.fit(\n",
        "    x_small_train, y_small_train,\n",
        "    epochs=30,\n",
        "    batch_size=32,\n",
        "    validation_data=(x_val, y_val),\n",
        "    callbacks=[checkpoint_callback]\n",
        ")\n"
      ]
    },
    {
      "cell_type": "code",
      "execution_count": 8,
      "metadata": {
        "colab": {
          "base_uri": "https://localhost:8080/",
          "height": 783
        },
        "id": "knYeCSBj_L3N",
        "outputId": "642c9db8-351e-487b-d52d-21bd4cfa8f66"
      },
      "outputs": [
        {
          "output_type": "display_data",
          "data": {
            "text/plain": [
              "<Figure size 600x400 with 1 Axes>"
            ],
            "image/png": "[encoded data removed]"
          },
          "metadata": {}
        },
        {
          "output_type": "display_data",
          "data": {
            "text/plain": [
              "<Figure size 640x480 with 0 Axes>"
            ]
          },
          "metadata": {}
        },
        {
          "output_type": "display_data",
          "data": {
            "text/plain": [
              "<Figure size 600x400 with 1 Axes>"
            ],
            "image/png": "[encoded data removed]"
          },
          "metadata": {}
        }
      ],
      "source": [
        "import matplotlib.pyplot as plt\n",
        "\n",
        "train_accuracy = train_history.history['accuracy']\n",
        "val_accuracy = train_history.history['val_accuracy']\n",
        "\n",
        "train_loss = train_history.history[\"loss\"]\n",
        "val_loss = train_history.history[\"val_loss\"]\n",
        "\n",
        "epoch_range = range(1, len(train_accuracy) + 1)\n",
        "\n",
        "plt.figure(figsize=(6, 4))\n",
        "plt.plot(epoch_range, train_accuracy, color=\"green\", linestyle=\"dashed\", label=\"Training Accuracy\")\n",
        "plt.plot(epoch_range, val_accuracy, color=\"blue\", linestyle=\"dashed\", label=\"Validation Accuracy\")\n",
        "plt.title(\"sentiment_classifier: Accuracy\")\n",
        "plt.legend()\n",
        "plt.figure()\n",
        "\n",
        "plt.figure(figsize=(6, 4))\n",
        "plt.plot(epoch_range, train_loss, color=\"red\", linestyle=\"dashed\", label=\"Training Loss\")\n",
        "plt.plot(epoch_range, val_loss, color=\"blue\", linestyle=\"dashed\", label=\"Validation Loss\")\n",
        "plt.title(\"sentiment_classifier: Loss\")\n",
        "plt.legend()\n",
        "plt.show()"
      ]
    },
    {
      "cell_type": "code",
      "execution_count": 9,
      "metadata": {
        "colab": {
          "base_uri": "https://localhost:8080/"
        },
        "id": "CYYHwTnxAMGB",
        "outputId": "c0af05d4-011d-4455-a482-9b3d2624a4f9"
      },
      "outputs": [
        {
          "output_type": "stream",
          "name": "stdout",
          "text": [
            "157/157 [==============================] - 0s 1ms/step - loss: 0.6928 - accuracy: 0.5078\n",
            "Loss: 0.693\n",
            "Accuracy: 0.508\n"
          ]
        }
      ],
      "source": [
        "from tensorflow.keras.models import load_model\n",
        "\n",
        "# Loading the saved model\n",
        "loaded_model = load_model('sentiment_classifier.h5')\n",
        "\n",
        "# Evaluating the model on the test data\n",
        "evaluation_results = loaded_model.evaluate(x_final_test, y_final_test)\n",
        "\n",
        "# Printing the results (Loss and Accuracy)\n",
        "print(f'Loss: {evaluation_results[0]:.3f}')\n",
        "print(f'Accuracy: {evaluation_results[1]:.3f}')"
      ]
    },
    {
      "cell_type": "markdown",
      "metadata": {
        "id": "zwViKY69Cjnq"
      },
      "source": [
        "**Model 2: Baseline Model with Embedded Layer (Training Sample Size: 10,000)**"
      ]
    },
    {
      "cell_type": "code",
      "execution_count": 10,
      "metadata": {
        "id": "TjE70PmfCk5d"
      },
      "outputs": [],
      "source": [
        "from tensorflow.keras.datasets import imdb\n",
        "from tensorflow.keras.preprocessing.sequence import pad_sequences\n",
        "from sklearn.model_selection import train_test_split\n",
        "import numpy as np\n",
        "\n",
        "# Constants for data configuration\n",
        "MAX_VOCAB_SIZE = 10000          # Consider only top 10,000 words\n",
        "MAX_SEQUENCE_LENGTH = 150       # Truncate/pad reviews to 150 words\n",
        "\n",
        "# Load and preprocess the IMDB dataset\n",
        "(train_reviews, train_sentiments), (test_reviews, test_sentiments) = imdb.load_data(\n",
        "    num_words=MAX_VOCAB_SIZE\n",
        ")\n",
        "\n",
        "# Pad sequences to uniform length\n",
        "padded_train_reviews = pad_sequences(train_reviews, maxlen=MAX_SEQUENCE_LENGTH)\n",
        "padded_test_reviews = pad_sequences(test_reviews, maxlen=MAX_SEQUENCE_LENGTH)\n",
        "\n",
        "# Combine all data for stratified splitting\n",
        "all_reviews = np.concatenate((padded_train_reviews, padded_test_reviews), axis=0)\n",
        "all_sentiments = np.concatenate((train_sentiments, test_sentiments), axis=0)\n",
        "\n",
        "# Create training (10,000 samples) and validation (10,000 samples) sets\n",
        "train_reviews_final, val_reviews, train_sentiments_final, val_sentiments = train_test_split(\n",
        "    all_reviews,\n",
        "    all_sentiments,\n",
        "    train_size=10000,\n",
        "    test_size=10000,\n",
        "    random_state=42,\n",
        "    stratify=all_sentiments\n",
        ")\n",
        "\n",
        "\n",
        "_, test_reviews_final, _, test_sentiments_final = train_test_split(\n",
        "    padded_test_reviews,\n",
        "    test_sentiments,\n",
        "    test_size=5000,\n",
        "    random_state=42,\n",
        "    stratify=test_sentiments\n",
        ")"
      ]
    },
    {
      "cell_type": "code",
      "execution_count": 11,
      "metadata": {
        "colab": {
          "base_uri": "https://localhost:8080/"
        },
        "id": "-5k3rNDTC-y4",
        "outputId": "55b82e3b-673b-40e2-835f-3553734230bb"
      },
      "outputs": [
        {
          "output_type": "execute_result",
          "data": {
            "text/plain": [
              "(10000, 150)"
            ]
          },
          "metadata": {},
          "execution_count": 11
        }
      ],
      "source": [
        "train_reviews_final.shape"
      ]
    },
    {
      "cell_type": "code",
      "execution_count": 12,
      "metadata": {
        "colab": {
          "base_uri": "https://localhost:8080/"
        },
        "id": "9NfDyllgDFpQ",
        "outputId": "75ddcf88-572e-4fbc-dd61-284061162e95"
      },
      "outputs": [
        {
          "output_type": "execute_result",
          "data": {
            "text/plain": [
              "(10000, 150)"
            ]
          },
          "metadata": {},
          "execution_count": 12
        }
      ],
      "source": [
        "val_reviews.shape"
      ]
    },
    {
      "cell_type": "code",
      "execution_count": 13,
      "metadata": {
        "colab": {
          "base_uri": "https://localhost:8080/"
        },
        "id": "hjPUOftqDHe9",
        "outputId": "c2823965-df14-4cbb-cad6-12a66e7e6a81"
      },
      "outputs": [
        {
          "output_type": "execute_result",
          "data": {
            "text/plain": [
              "(5000, 150)"
            ]
          },
          "metadata": {},
          "execution_count": 13
        }
      ],
      "source": [
        "test_reviews_final.shape"
      ]
    },
    {
      "cell_type": "code",
      "execution_count": 14,
      "metadata": {
        "colab": {
          "base_uri": "https://localhost:8080/"
        },
        "id": "tZ_d5017DeGx",
        "outputId": "2ec846f4-4ec7-4821-f8bb-02eb35700c25"
      },
      "outputs": [
        {
          "output_type": "stream",
          "name": "stdout",
          "text": [
            "Model: \"sequential_1\"\n",
            "_________________________________________________________________\n",
            " Layer (type)                Output Shape              Param #   \n",
            "=================================================================\n",
            " embedding_1 (Embedding)     (None, 150, 8)            80000     \n",
            "                                                                 \n",
            " flatten_1 (Flatten)         (None, 1200)              0         \n",
            "                                                                 \n",
            " dense_1 (Dense)             (None, 1)                 1201      \n",
            "                                                                 \n",
            "=================================================================\n",
            "Total params: 81,201\n",
            "Trainable params: 81,201\n",
            "Non-trainable params: 0\n",
            "_________________________________________________________________\n"
          ]
        }
      ],
      "source": [
        "from tensorflow.keras.models import Sequential\n",
        "from tensorflow.keras.layers import Embedding, Flatten, Dense\n",
        "\n",
        "# Initialize a sequential model for sentiment analysis\n",
        "sentiment_analysis_model = Sequential()\n",
        "\n",
        "# Add an embedding layer that converts word indices to dense vectors\n",
        "sentiment_analysis_model.add(Embedding(\n",
        "    input_dim=MAX_VOCAB_SIZE,      # Size of vocabulary (10,000 words)\n",
        "    output_dim=8,                  # Dimension of word embeddings\n",
        "    input_length=MAX_SEQUENCE_LENGTH  # Length of input sequences (150 words)\n",
        "))\n",
        "\n",
        "# Flatten the 3D embedding output to 2D for the dense layer\n",
        "sentiment_analysis_model.add(Flatten())\n",
        "\n",
        "# Add final classification layer with sigmoid activation\n",
        "sentiment_analysis_model.add(Dense(\n",
        "    units=1,                      # Single output unit for binary classification\n",
        "    activation='sigmoid'          # Sigmoid activation for probability output\n",
        "))\n",
        "\n",
        "# Compile the model with appropriate settings for binary classification\n",
        "sentiment_analysis_model.compile(\n",
        "    optimizer='rmsprop',          # RMSprop optimizer\n",
        "    loss='binary_crossentropy',   # Binary cross-entropy loss function\n",
        "    metrics=['accuracy']          # Track accuracy during training\n",
        ")\n",
        "\n",
        "# Display the model architecture summary\n",
        "sentiment_analysis_model.summary()"
      ]
    },
    {
      "cell_type": "code",
      "execution_count": 15,
      "metadata": {
        "colab": {
          "base_uri": "https://localhost:8080/"
        },
        "id": "6xR7yzgFDlJ5",
        "outputId": "3dd9a5b6-b36f-4d8e-e3ea-fd163763946a"
      },
      "outputs": [
        {
          "output_type": "stream",
          "name": "stdout",
          "text": [
            "Epoch 1/30\n",
            "4/4 [==============================] - 1s 184ms/step - loss: 0.6959 - accuracy: 0.4700 - val_loss: 0.6928 - val_accuracy: 0.5085\n",
            "Epoch 2/30\n",
            "4/4 [==============================] - 1s 222ms/step - loss: 0.6734 - accuracy: 0.8100 - val_loss: 0.6927 - val_accuracy: 0.5090\n",
            "Epoch 3/30\n",
            "4/4 [==============================] - 0s 104ms/step - loss: 0.6581 - accuracy: 0.9100 - val_loss: 0.6925 - val_accuracy: 0.5093\n",
            "Epoch 4/30\n",
            "4/4 [==============================] - 0s 114ms/step - loss: 0.6447 - accuracy: 0.9500 - val_loss: 0.6925 - val_accuracy: 0.5081\n",
            "Epoch 5/30\n",
            "4/4 [==============================] - 0s 112ms/step - loss: 0.6317 - accuracy: 0.9600 - val_loss: 0.6924 - val_accuracy: 0.5079\n",
            "Epoch 6/30\n",
            "4/4 [==============================] - 0s 115ms/step - loss: 0.6188 - accuracy: 0.9600 - val_loss: 0.6923 - val_accuracy: 0.5117\n",
            "Epoch 7/30\n",
            "4/4 [==============================] - 0s 113ms/step - loss: 0.6058 - accuracy: 0.9600 - val_loss: 0.6923 - val_accuracy: 0.5109\n",
            "Epoch 8/30\n",
            "4/4 [==============================] - 0s 113ms/step - loss: 0.5922 - accuracy: 0.9700 - val_loss: 0.6922 - val_accuracy: 0.5108\n",
            "Epoch 9/30\n",
            "4/4 [==============================] - 0s 95ms/step - loss: 0.5780 - accuracy: 0.9700 - val_loss: 0.6922 - val_accuracy: 0.5113\n",
            "Epoch 10/30\n",
            "4/4 [==============================] - 0s 97ms/step - loss: 0.5637 - accuracy: 0.9800 - val_loss: 0.6921 - val_accuracy: 0.5101\n",
            "Epoch 11/30\n",
            "4/4 [==============================] - 0s 114ms/step - loss: 0.5486 - accuracy: 0.9900 - val_loss: 0.6920 - val_accuracy: 0.5121\n",
            "Epoch 12/30\n",
            "4/4 [==============================] - 0s 98ms/step - loss: 0.5332 - accuracy: 0.9900 - val_loss: 0.6920 - val_accuracy: 0.5144\n",
            "Epoch 13/30\n",
            "4/4 [==============================] - 0s 109ms/step - loss: 0.5176 - accuracy: 1.0000 - val_loss: 0.6921 - val_accuracy: 0.5119\n",
            "Epoch 14/30\n",
            "4/4 [==============================] - 0s 109ms/step - loss: 0.5015 - accuracy: 1.0000 - val_loss: 0.6920 - val_accuracy: 0.5130\n",
            "Epoch 15/30\n",
            "4/4 [==============================] - 0s 112ms/step - loss: 0.4847 - accuracy: 1.0000 - val_loss: 0.6920 - val_accuracy: 0.5141\n",
            "Epoch 16/30\n",
            "4/4 [==============================] - 0s 98ms/step - loss: 0.4679 - accuracy: 1.0000 - val_loss: 0.6920 - val_accuracy: 0.5132\n",
            "Epoch 17/30\n",
            "4/4 [==============================] - 0s 99ms/step - loss: 0.4508 - accuracy: 1.0000 - val_loss: 0.6920 - val_accuracy: 0.5139\n",
            "Epoch 18/30\n",
            "4/4 [==============================] - 0s 109ms/step - loss: 0.4336 - accuracy: 1.0000 - val_loss: 0.6920 - val_accuracy: 0.5139\n",
            "Epoch 19/30\n",
            "4/4 [==============================] - 0s 108ms/step - loss: 0.4163 - accuracy: 1.0000 - val_loss: 0.6921 - val_accuracy: 0.5132\n",
            "Epoch 20/30\n",
            "4/4 [==============================] - 0s 111ms/step - loss: 0.3987 - accuracy: 1.0000 - val_loss: 0.6921 - val_accuracy: 0.5149\n",
            "Epoch 21/30\n",
            "4/4 [==============================] - 0s 102ms/step - loss: 0.3812 - accuracy: 1.0000 - val_loss: 0.6921 - val_accuracy: 0.5154\n",
            "Epoch 22/30\n",
            "4/4 [==============================] - 0s 111ms/step - loss: 0.3640 - accuracy: 1.0000 - val_loss: 0.6922 - val_accuracy: 0.5140\n",
            "Epoch 23/30\n",
            "4/4 [==============================] - 0s 101ms/step - loss: 0.3467 - accuracy: 1.0000 - val_loss: 0.6923 - val_accuracy: 0.5151\n",
            "Epoch 24/30\n",
            "4/4 [==============================] - 0s 109ms/step - loss: 0.3298 - accuracy: 1.0000 - val_loss: 0.6923 - val_accuracy: 0.5150\n",
            "Epoch 25/30\n",
            "4/4 [==============================] - 0s 96ms/step - loss: 0.3128 - accuracy: 1.0000 - val_loss: 0.6924 - val_accuracy: 0.5150\n",
            "Epoch 26/30\n",
            "4/4 [==============================] - 0s 97ms/step - loss: 0.2964 - accuracy: 1.0000 - val_loss: 0.6925 - val_accuracy: 0.5147\n",
            "Epoch 27/30\n",
            "4/4 [==============================] - 0s 112ms/step - loss: 0.2802 - accuracy: 1.0000 - val_loss: 0.6927 - val_accuracy: 0.5150\n",
            "Epoch 28/30\n",
            "4/4 [==============================] - 0s 110ms/step - loss: 0.2648 - accuracy: 1.0000 - val_loss: 0.6930 - val_accuracy: 0.5145\n",
            "Epoch 29/30\n",
            "4/4 [==============================] - 0s 110ms/step - loss: 0.2500 - accuracy: 1.0000 - val_loss: 0.6933 - val_accuracy: 0.5151\n",
            "Epoch 30/30\n",
            "4/4 [==============================] - 0s 111ms/step - loss: 0.2355 - accuracy: 1.0000 - val_loss: 0.6936 - val_accuracy: 0.5151\n"
          ]
        }
      ],
      "source": [
        "from tensorflow.keras.callbacks import ModelCheckpoint\n",
        "\n",
        "# Setup model checkpoint to save the best version during training\n",
        "model_checkpoint = ModelCheckpoint(\n",
        "    filepath=\"best_sentiment_model.h5\",  # More descriptive filename\n",
        "    save_best_only=True,                # Only keep the best model\n",
        "    monitor=\"val_loss\",                 # Monitor validation loss\n",
        "\n",
        ")\n",
        "\n",
        "# Train the sentiment analysis model\n",
        "train_history1 = sentiment_analysis_model.fit(\n",
        "    x_small_train, y_small_train,\n",
        "    epochs=30,                         # Number of training epochs\n",
        "    batch_size=32,                     # Batch size\n",
        "    validation_data=(x_val, y_val),  # Validation data\n",
        "    callbacks=[model_checkpoint],      # Include our checkpoint callback\n",
        "\n",
        ")"
      ]
    },
    {
      "cell_type": "code",
      "execution_count": 16,
      "metadata": {
        "colab": {
          "base_uri": "https://localhost:8080/",
          "height": 783
        },
        "id": "gG61hhB2EToP",
        "outputId": "83c89a29-8b9f-4b66-b13f-6c07ec861c48"
      },
      "outputs": [
        {
          "output_type": "display_data",
          "data": {
            "text/plain": [
              "<Figure size 600x400 with 1 Axes>"
            ],
            "image/png": "[encoded data removed]"
          },
          "metadata": {}
        },
        {
          "output_type": "display_data",
          "data": {
            "text/plain": [
              "<Figure size 640x480 with 0 Axes>"
            ]
          },
          "metadata": {}
        },
        {
          "output_type": "display_data",
          "data": {
            "text/plain": [
              "<Figure size 600x400 with 1 Axes>"
            ],
            "image/png": "[encoded data removed]"
          },
          "metadata": {}
        }
      ],
      "source": [
        "import matplotlib.pyplot as plt\n",
        "\n",
        "val_accuracy = train_history1.history['val_accuracy']\n",
        "\n",
        "training_loss = train_history1.history['loss']\n",
        "val_loss = train_history1.history['val_loss']\n",
        "\n",
        "epochs_range = range(1, len(train_accuracy) + 1)\n",
        "\n",
        "plt.figure(figsize=(6, 4))\n",
        "plt.plot(epochs_range, train_accuracy, color=\"green\", linestyle=\"dashed\", label=\"Training Accuracy\")\n",
        "plt.plot(epochs_range, val_accuracy, color=\"blue\", linestyle=\"dashed\", label=\"Validation Accuracy\")\n",
        "plt.title(\"sentiment_analysis_model: Accuracy\")\n",
        "plt.legend()\n",
        "plt.figure()\n",
        "\n",
        "plt.figure(figsize=(6, 4))\n",
        "plt.plot(epochs_range, train_loss, color=\"red\", linestyle=\"dashed\", label=\"Training Loss\")\n",
        "plt.plot(epochs_range, val_loss, color=\"blue\", linestyle=\"dashed\", label=\"Validation Loss\")\n",
        "plt.title(\"sentiment_analysis_model: Loss\")\n",
        "plt.legend()\n",
        "plt.show()"
      ]
    },
    {
      "cell_type": "code",
      "execution_count": 17,
      "metadata": {
        "colab": {
          "base_uri": "https://localhost:8080/"
        },
        "id": "owO3RIX4GT3O",
        "outputId": "ff715216-f99e-4654-da1f-4dca7741c596"
      },
      "outputs": [
        {
          "output_type": "stream",
          "name": "stdout",
          "text": [
            "157/157 [==============================] - 0s 919us/step - loss: 0.6927 - accuracy: 0.5160\n",
            "Loss: 0.693\n",
            "Accuracy: 0.516\n"
          ]
        }
      ],
      "source": [
        "from tensorflow.keras.models import load_model\n",
        "\n",
        "loaded_model = load_model('best_sentiment_model.h5')\n",
        "\n",
        "evaluation_results = loaded_model.evaluate(test_reviews_final, test_sentiments_final)\n",
        "print(f'Loss: {evaluation_results[0]:.3f}')\n",
        "print(f'Accuracy: {evaluation_results[1]:.3f}')"
      ]
    },
    {
      "cell_type": "markdown",
      "metadata": {
        "id": "LPRVNLuhHIjT"
      },
      "source": [
        "**Model 3: Baseline Model with Embedded Layer (Training Sample Size: 15,000)**\n",
        "\n"
      ]
    },
    {
      "cell_type": "code",
      "execution_count": 18,
      "metadata": {
        "id": "IdcTTRmoHKda"
      },
      "outputs": [],
      "source": [
        "from tensorflow.keras.datasets import imdb\n",
        "from tensorflow.keras.preprocessing.sequence import pad_sequences\n",
        "from sklearn.model_selection import train_test_split\n",
        "import numpy as np\n",
        "\n",
        "# Constants\n",
        "VOCABULARY_SIZE = 10000\n",
        "MAX_SEQUENCE_LENGTH = 150\n",
        "\n",
        "# Load and preprocess IMDB dataset\n",
        "((raw_train_reviews, raw_train_labels), (raw_test_reviews, raw_test_labels)) = imdb.load_data(num_words=VOCABULARY_SIZE)\n",
        "padded_train_reviews = pad_sequences(raw_train_reviews, maxlen=MAX_SEQUENCE_LENGTH)\n",
        "padded_test_reviews = pad_sequences(raw_test_reviews, maxlen=MAX_SEQUENCE_LENGTH)\n",
        "\n",
        "# Combine all data for stratified splitting\n",
        "all_reviews = np.concatenate((padded_train_reviews, padded_test_reviews), axis=0)\n",
        "all_labels = np.concatenate((raw_train_labels, raw_test_labels), axis=0)\n",
        "\n",
        "# Create training and validation sets\n",
        "train_reviews, val_reviews, train_labels, val_labels = train_test_split(\n",
        "    all_reviews, all_labels,\n",
        "    train_size=15000,\n",
        "    test_size=10000,\n",
        "    random_state=42,\n",
        "    stratify=all_labels\n",
        ")\n",
        "\n",
        "# Create final test set\n",
        "_, final_test_reviews, _, final_test_labels = train_test_split(\n",
        "    padded_test_reviews,\n",
        "    raw_test_labels,\n",
        "    test_size=5000,\n",
        "    random_state=42,\n",
        "    stratify=raw_test_labels\n",
        ")"
      ]
    },
    {
      "cell_type": "code",
      "execution_count": 19,
      "metadata": {
        "colab": {
          "base_uri": "https://localhost:8080/"
        },
        "id": "zQO6aT2qHsmL",
        "outputId": "3124b698-0882-47aa-bfc6-9b6253f0a313"
      },
      "outputs": [
        {
          "output_type": "execute_result",
          "data": {
            "text/plain": [
              "(15000, 150)"
            ]
          },
          "metadata": {},
          "execution_count": 19
        }
      ],
      "source": [
        "train_reviews.shape"
      ]
    },
    {
      "cell_type": "code",
      "execution_count": 20,
      "metadata": {
        "colab": {
          "base_uri": "https://localhost:8080/"
        },
        "id": "GBs9j7fhHy1Y",
        "outputId": "b2c956e7-5f37-491a-e453-0f4f998ca518"
      },
      "outputs": [
        {
          "output_type": "execute_result",
          "data": {
            "text/plain": [
              "(10000, 150)"
            ]
          },
          "metadata": {},
          "execution_count": 20
        }
      ],
      "source": [
        "val_reviews.shape"
      ]
    },
    {
      "cell_type": "code",
      "execution_count": 21,
      "metadata": {
        "colab": {
          "base_uri": "https://localhost:8080/"
        },
        "id": "yEPn8xneH4iC",
        "outputId": "ce277b45-eaca-4149-e5f1-0e68317bc351"
      },
      "outputs": [
        {
          "output_type": "execute_result",
          "data": {
            "text/plain": [
              "(5000, 150)"
            ]
          },
          "metadata": {},
          "execution_count": 21
        }
      ],
      "source": [
        "final_test_reviews.shape"
      ]
    },
    {
      "cell_type": "markdown",
      "metadata": {
        "id": "HWej9eQMH7S1"
      },
      "source": [
        "Building model"
      ]
    },
    {
      "cell_type": "code",
      "execution_count": 22,
      "metadata": {
        "colab": {
          "base_uri": "https://localhost:8080/"
        },
        "id": "zdFyV2JQH9WQ",
        "outputId": "a4bb5fb1-fb33-4cb4-f40f-74961b815f27"
      },
      "outputs": [
        {
          "output_type": "stream",
          "name": "stdout",
          "text": [
            "Model: \"sequential_2\"\n",
            "_________________________________________________________________\n",
            " Layer (type)                Output Shape              Param #   \n",
            "=================================================================\n",
            " word_embedding_layer (Embed  (None, 150, 8)           80000     \n",
            " ding)                                                           \n",
            "                                                                 \n",
            " flatten_layer (Flatten)     (None, 1200)              0         \n",
            "                                                                 \n",
            " output_layer (Dense)        (None, 1)                 1201      \n",
            "                                                                 \n",
            "=================================================================\n",
            "Total params: 81,201\n",
            "Trainable params: 81,201\n",
            "Non-trainable params: 0\n",
            "_________________________________________________________________\n"
          ]
        }
      ],
      "source": [
        "from tensorflow.keras.models import Sequential\n",
        "from tensorflow.keras.layers import Embedding, Flatten, Dense\n",
        "\n",
        "# Define the model architecture\n",
        "sentiment_analysis_model = Sequential()\n",
        "sentiment_analysis_model.add(Embedding(\n",
        "    input_dim=VOCABULARY_SIZE,\n",
        "    output_dim=8,\n",
        "    input_length=MAX_SEQUENCE_LENGTH,\n",
        "    name='word_embedding_layer'\n",
        "))\n",
        "sentiment_analysis_model.add(Flatten(name='flatten_layer'))\n",
        "sentiment_analysis_model.add(Dense(\n",
        "    units=1,\n",
        "    activation='sigmoid',\n",
        "    name='output_layer'\n",
        "))\n",
        "\n",
        "# Compile the model\n",
        "sentiment_analysis_model.compile(\n",
        "    optimizer='rmsprop',\n",
        "    loss='binary_crossentropy',\n",
        "    metrics=['accuracy']\n",
        ")\n",
        "\n",
        "# Display model summary\n",
        "sentiment_analysis_model.summary()"
      ]
    },
    {
      "cell_type": "code",
      "execution_count": 23,
      "metadata": {
        "colab": {
          "base_uri": "https://localhost:8080/"
        },
        "id": "hUw0vOOgIbkk",
        "outputId": "a57ebe0a-180e-4131-c3d2-24b940d79e95"
      },
      "outputs": [
        {
          "output_type": "stream",
          "name": "stdout",
          "text": [
            "Epoch 1/30\n",
            "469/469 [==============================] - 2s 3ms/step - loss: 0.6436 - accuracy: 0.6587 - val_loss: 0.5210 - val_accuracy: 0.7852\n",
            "Epoch 2/30\n",
            "469/469 [==============================] - 1s 2ms/step - loss: 0.3976 - accuracy: 0.8475 - val_loss: 0.3561 - val_accuracy: 0.8487\n",
            "Epoch 3/30\n",
            "469/469 [==============================] - 1s 2ms/step - loss: 0.2890 - accuracy: 0.8863 - val_loss: 0.3095 - val_accuracy: 0.8657\n",
            "Epoch 4/30\n",
            "469/469 [==============================] - 1s 2ms/step - loss: 0.2407 - accuracy: 0.9065 - val_loss: 0.2987 - val_accuracy: 0.8705\n",
            "Epoch 5/30\n",
            "469/469 [==============================] - 1s 2ms/step - loss: 0.2077 - accuracy: 0.9210 - val_loss: 0.2918 - val_accuracy: 0.8746\n",
            "Epoch 6/30\n",
            "469/469 [==============================] - 1s 2ms/step - loss: 0.1811 - accuracy: 0.9349 - val_loss: 0.2931 - val_accuracy: 0.8739\n",
            "Epoch 7/30\n",
            "469/469 [==============================] - 1s 2ms/step - loss: 0.1590 - accuracy: 0.9454 - val_loss: 0.2976 - val_accuracy: 0.8736\n",
            "Epoch 8/30\n",
            "469/469 [==============================] - 1s 2ms/step - loss: 0.1388 - accuracy: 0.9541 - val_loss: 0.3038 - val_accuracy: 0.8713\n",
            "Epoch 9/30\n",
            "469/469 [==============================] - 1s 3ms/step - loss: 0.1192 - accuracy: 0.9626 - val_loss: 0.3138 - val_accuracy: 0.8703\n",
            "Epoch 10/30\n",
            "469/469 [==============================] - 1s 2ms/step - loss: 0.1032 - accuracy: 0.9692 - val_loss: 0.3221 - val_accuracy: 0.8697\n",
            "Epoch 11/30\n",
            "469/469 [==============================] - 1s 2ms/step - loss: 0.0877 - accuracy: 0.9743 - val_loss: 0.3337 - val_accuracy: 0.8684\n",
            "Epoch 12/30\n",
            "469/469 [==============================] - 1s 2ms/step - loss: 0.0736 - accuracy: 0.9801 - val_loss: 0.3446 - val_accuracy: 0.8656\n",
            "Epoch 13/30\n",
            "469/469 [==============================] - 1s 2ms/step - loss: 0.0608 - accuracy: 0.9847 - val_loss: 0.3611 - val_accuracy: 0.8634\n",
            "Epoch 14/30\n",
            "469/469 [==============================] - 1s 2ms/step - loss: 0.0501 - accuracy: 0.9876 - val_loss: 0.3721 - val_accuracy: 0.8626\n",
            "Epoch 15/30\n",
            "469/469 [==============================] - 1s 2ms/step - loss: 0.0404 - accuracy: 0.9911 - val_loss: 0.3873 - val_accuracy: 0.8606\n",
            "Epoch 16/30\n",
            "469/469 [==============================] - 1s 2ms/step - loss: 0.0327 - accuracy: 0.9931 - val_loss: 0.4069 - val_accuracy: 0.8592\n",
            "Epoch 17/30\n",
            "469/469 [==============================] - 1s 2ms/step - loss: 0.0255 - accuracy: 0.9952 - val_loss: 0.4204 - val_accuracy: 0.8587\n",
            "Epoch 18/30\n",
            "469/469 [==============================] - 1s 2ms/step - loss: 0.0201 - accuracy: 0.9963 - val_loss: 0.4383 - val_accuracy: 0.8562\n",
            "Epoch 19/30\n",
            "469/469 [==============================] - 1s 3ms/step - loss: 0.0154 - accuracy: 0.9977 - val_loss: 0.4603 - val_accuracy: 0.8558\n",
            "Epoch 20/30\n",
            "469/469 [==============================] - 1s 2ms/step - loss: 0.0122 - accuracy: 0.9985 - val_loss: 0.4794 - val_accuracy: 0.8522\n",
            "Epoch 21/30\n",
            "469/469 [==============================] - 1s 2ms/step - loss: 0.0095 - accuracy: 0.9988 - val_loss: 0.4959 - val_accuracy: 0.8539\n",
            "Epoch 22/30\n",
            "469/469 [==============================] - 1s 2ms/step - loss: 0.0075 - accuracy: 0.9993 - val_loss: 0.5145 - val_accuracy: 0.8527\n",
            "Epoch 23/30\n",
            "469/469 [==============================] - 1s 2ms/step - loss: 0.0059 - accuracy: 0.9993 - val_loss: 0.5329 - val_accuracy: 0.8515\n",
            "Epoch 24/30\n",
            "469/469 [==============================] - 1s 2ms/step - loss: 0.0049 - accuracy: 0.9993 - val_loss: 0.5496 - val_accuracy: 0.8514\n",
            "Epoch 25/30\n",
            "469/469 [==============================] - 1s 2ms/step - loss: 0.0038 - accuracy: 0.9995 - val_loss: 0.5656 - val_accuracy: 0.8514\n",
            "Epoch 26/30\n",
            "469/469 [==============================] - 1s 2ms/step - loss: 0.0033 - accuracy: 0.9996 - val_loss: 0.5799 - val_accuracy: 0.8512\n",
            "Epoch 27/30\n",
            "469/469 [==============================] - 1s 2ms/step - loss: 0.0027 - accuracy: 0.9997 - val_loss: 0.5926 - val_accuracy: 0.8511\n",
            "Epoch 28/30\n",
            "469/469 [==============================] - 1s 2ms/step - loss: 0.0023 - accuracy: 0.9997 - val_loss: 0.6047 - val_accuracy: 0.8511\n",
            "Epoch 29/30\n",
            "469/469 [==============================] - 2s 4ms/step - loss: 0.0020 - accuracy: 0.9997 - val_loss: 0.6157 - val_accuracy: 0.8503\n",
            "Epoch 30/30\n",
            "469/469 [==============================] - 1s 2ms/step - loss: 0.0018 - accuracy: 0.9998 - val_loss: 0.6290 - val_accuracy: 0.8499\n"
          ]
        }
      ],
      "source": [
        "from tensorflow.keras.callbacks import ModelCheckpoint\n",
        "\n",
        "# Define model checkpoint callback to save the best model\n",
        "best_model_checkpoint = ModelCheckpoint(\n",
        "    filepath=\"best_sentiment_model.h5\",\n",
        "    save_best_only=True,\n",
        "    monitor=\"val_loss\",\n",
        "    mode=\"min\"   # Explicitly set to minimize validation loss\n",
        ")\n",
        "\n",
        "# Train the model with checkpointing\n",
        "model_training_history = sentiment_analysis_model.fit(\n",
        "    x=train_reviews,  # Using our renamed variables from earlier\n",
        "    y=train_labels,\n",
        "    epochs=30,\n",
        "    batch_size=32,\n",
        "    validation_data=(val_reviews, val_labels),  # Using our renamed validation set\n",
        "    callbacks=[best_model_checkpoint],\n",
        "\n",
        ")"
      ]
    },
    {
      "cell_type": "code",
      "execution_count": 24,
      "metadata": {
        "colab": {
          "base_uri": "https://localhost:8080/",
          "height": 765
        },
        "id": "ilLujp0tI2xf",
        "outputId": "2d7e5418-09d9-4fb3-ca4d-def5c31cde41"
      },
      "outputs": [
        {
          "output_type": "display_data",
          "data": {
            "text/plain": [
              "<Figure size 600x400 with 1 Axes>"
            ],
            "image/png": "[encoded data removed]"
          },
          "metadata": {}
        },
        {
          "output_type": "display_data",
          "data": {
            "text/plain": [
              "<Figure size 600x400 with 1 Axes>"
            ],
            "image/png": "[encoded data removed]"
          },
          "metadata": {}
        }
      ],
      "source": [
        "import matplotlib.pyplot as plt\n",
        "\n",
        "# Extract metrics using the renamed history variable\n",
        "training_accuracy = model_training_history.history['accuracy']\n",
        "validation_accuracy = model_training_history.history['val_accuracy']\n",
        "training_loss = model_training_history.history['loss']\n",
        "validation_loss = model_training_history.history['val_loss']\n",
        "\n",
        "# Create epoch range (unchanged)\n",
        "epochs_range = range(1, len(training_accuracy) + 1)\n",
        "\n",
        "# Accuracy plot (identical style, just variable names changed)\n",
        "plt.figure(figsize=(6, 4))\n",
        "plt.plot(epochs_range, training_accuracy, color=\"green\", linestyle=\"dashed\", label=\"Training Accuracy\")\n",
        "plt.plot(epochs_range, validation_accuracy, color=\"blue\", linestyle=\"dashed\", label=\"Validation Accuracy\")\n",
        "plt.title(\"Sentiment Model: Accuracy\")\n",
        "plt.legend()\n",
        "\n",
        "# Loss plot (identical style, just variable names changed)\n",
        "plt.figure(figsize=(6, 4))\n",
        "plt.plot(epochs_range, training_loss, color=\"red\", linestyle=\"dashed\", label=\"Training Loss\")\n",
        "plt.plot(epochs_range, validation_loss, color=\"blue\", linestyle=\"dashed\", label=\"Validation Loss\")\n",
        "plt.title(\"Sentiment Model: Loss\")\n",
        "plt.legend()\n",
        "\n",
        "plt.show()"
      ]
    },
    {
      "cell_type": "code",
      "execution_count": 25,
      "metadata": {
        "colab": {
          "base_uri": "https://localhost:8080/"
        },
        "id": "gBiy5mTkJYBe",
        "outputId": "4e44ceb8-e31d-4667-d13a-4225efec5035"
      },
      "outputs": [
        {
          "output_type": "stream",
          "name": "stdout",
          "text": [
            "157/157 [==============================] - 0s 1ms/step - loss: 0.2575 - accuracy: 0.8920\n",
            "Test Loss: 0.257\n",
            "Test Accuracy: 0.892\n"
          ]
        }
      ],
      "source": [
        "from tensorflow.keras.models import load_model\n",
        "\n",
        "# Load the saved model\n",
        "trained_sentiment_model = load_model('best_sentiment_model.h5')\n",
        "\n",
        "# Evaluate model performance\n",
        "model_evaluation_metrics = trained_sentiment_model.evaluate(final_test_reviews, final_test_labels)\n",
        "print(f'Test Loss: {model_evaluation_metrics[0]:.3f}')\n",
        "print(f'Test Accuracy: {model_evaluation_metrics[1]:.3f}')"
      ]
    },
    {
      "cell_type": "markdown",
      "metadata": {
        "id": "LcCLi82vJq7M"
      },
      "source": [
        "**Model 4: LSTM-Based Sequence Model Using One-Hot Encoded Vector Sequences**"
      ]
    },
    {
      "cell_type": "code",
      "execution_count": 26,
      "metadata": {
        "colab": {
          "base_uri": "https://localhost:8080/"
        },
        "id": "Wng2tl4tJscm",
        "outputId": "abbf77bc-fedb-4b2c-f025-f6b51ef89e27"
      },
      "outputs": [
        {
          "output_type": "stream",
          "name": "stdout",
          "text": [
            "Model: \"model\"\n",
            "_________________________________________________________________\n",
            " Layer (type)                Output Shape              Param #   \n",
            "=================================================================\n",
            " text_input (InputLayer)     [(None, None)]            0         \n",
            "                                                                 \n",
            " tf.one_hot (TFOpLambda)     (None, None, 10000)       0         \n",
            "                                                                 \n",
            " bidirectional_lstm (Bidirec  (None, 64)               2568448   \n",
            " tional)                                                         \n",
            "                                                                 \n",
            " dropout_layer (Dropout)     (None, 64)                0         \n",
            "                                                                 \n",
            " output_layer (Dense)        (None, 1)                 65        \n",
            "                                                                 \n",
            "=================================================================\n",
            "Total params: 2,568,513\n",
            "Trainable params: 2,568,513\n",
            "Non-trainable params: 0\n",
            "_________________________________________________________________\n"
          ]
        }
      ],
      "source": [
        "import tensorflow as tf\n",
        "from tensorflow.keras import layers, Input, Model\n",
        "\n",
        "MAX_SEQUENCE_LENGTH = 150\n",
        "VOCAB_SIZE = 10000\n",
        "\n",
        "# Input layer\n",
        "text_input = Input(shape=(None,), dtype=\"int64\", name=\"text_input\")\n",
        "\n",
        "# Feature engineering layer\n",
        "one_hot_encoded = tf.one_hot(text_input, depth=VOCAB_SIZE)\n",
        "\n",
        "# LSTM layers\n",
        "bidirectional_lstm = layers.Bidirectional(\n",
        "    layers.LSTM(32, name=\"lstm_layer\"),\n",
        "    name=\"bidirectional_lstm\"\n",
        ")(one_hot_encoded)\n",
        "\n",
        "# Regularization\n",
        "lstm_dropout = layers.Dropout(0.5, name=\"dropout_layer\")(bidirectional_lstm)\n",
        "\n",
        "# Output layer\n",
        "sentiment_output = layers.Dense(1, activation=\"sigmoid\", name=\"output_layer\")(lstm_dropout)\n",
        "\n",
        "# Create and compile model\n",
        "sentiment_analysis_model = Model(text_input, sentiment_output)\n",
        "sentiment_analysis_model.compile(\n",
        "    optimizer=\"rmsprop\",\n",
        "    loss=\"binary_crossentropy\",\n",
        "    metrics=[\"accuracy\"]\n",
        ")\n",
        "\n",
        "sentiment_analysis_model.summary()"
      ]
    },
    {
      "cell_type": "code",
      "execution_count": null,
      "metadata": {
        "colab": {
          "base_uri": "https://localhost:8080/"
        },
        "id": "K83wxWV2KR5C",
        "outputId": "ea894435-9911-4266-c8b0-be0c9ff6be68"
      },
      "outputs": [
        {
          "output_type": "stream",
          "name": "stdout",
          "text": [
            "Epoch 1/10\n",
            "469/469 [==============================] - 888s 2s/step - loss: 0.5610 - accuracy: 0.7097 - val_loss: 0.4005 - val_accuracy: 0.8325\n",
            "Epoch 2/10\n",
            "469/469 [==============================] - 878s 2s/step - loss: 0.3598 - accuracy: 0.8581 - val_loss: 0.4195 - val_accuracy: 0.8096\n",
            "Epoch 3/10\n",
            "469/469 [==============================] - 887s 2s/step - loss: 0.2847 - accuracy: 0.8913 - val_loss: 0.3037 - val_accuracy: 0.8682\n",
            "Epoch 4/10\n",
            "469/469 [==============================] - 905s 2s/step - loss: 0.2443 - accuracy: 0.9093 - val_loss: 0.4905 - val_accuracy: 0.8168\n",
            "Epoch 5/10\n",
            "469/469 [==============================] - 929s 2s/step - loss: 0.2145 - accuracy: 0.9218 - val_loss: 0.3069 - val_accuracy: 0.8732\n",
            "Epoch 6/10\n",
            "469/469 [==============================] - 933s 2s/step - loss: 0.1822 - accuracy: 0.9361 - val_loss: 0.3633 - val_accuracy: 0.8386\n",
            "Epoch 7/10\n",
            "469/469 [==============================] - 936s 2s/step - loss: 0.1509 - accuracy: 0.9490 - val_loss: 0.3680 - val_accuracy: 0.8404\n",
            "Epoch 8/10\n",
            "469/469 [==============================] - ETA: 0s - loss: 0.1192 - accuracy: 0.9601"
          ]
        }
      ],
      "source": [
        "from tensorflow.keras.callbacks import ModelCheckpoint\n",
        "\n",
        "# Model checkpoint configuration\n",
        "model_checkpoint_callback = ModelCheckpoint(\n",
        "    filepath=\"best_bidirectional_model.h5\",\n",
        "    save_best_only=True,\n",
        "    monitor=\"val_loss\",\n",
        "    mode=\"min\",\n",
        "\n",
        ")\n",
        "\n",
        "# Model training with checkpoint\n",
        "bidirectional_training_history = sentiment_analysis_model.fit(\n",
        "    x=train_reviews,\n",
        "    y=train_labels,\n",
        "    epochs=10,\n",
        "    batch_size=32,\n",
        "    validation_data=(val_reviews, val_labels),\n",
        "    callbacks=[model_checkpoint_callback],\n",
        ")"
      ]
    },
    {
      "cell_type": "code",
      "execution_count": null,
      "metadata": {
        "id": "W0H_bMoPLJ2K"
      },
      "outputs": [],
      "source": [
        "import matplotlib.pyplot as plt\n",
        "\n",
        "# Extract training metrics\n",
        "bidirectional_train_accuracy = bidirectional_training_history.history['accuracy']\n",
        "bidirectional_val_accuracy = bidirectional_training_history.history['val_accuracy']\n",
        "bidirectional_train_loss = bidirectional_training_history.history['loss']\n",
        "bidirectional_val_loss = bidirectional_training_history.history['val_loss']\n",
        "\n",
        "# Create epoch range\n",
        "bidirectional_epoch_range = range(1, len(bidirectional_train_accuracy) + 1)\n",
        "\n",
        "# Plot accuracy\n",
        "plt.figure(figsize=(6, 4))\n",
        "plt.plot(bidirectional_epoch_range, bidirectional_train_accuracy,\n",
        "         color=\"grey\", linestyle=\"dashed\", label=\"Training Accuracy\")\n",
        "plt.plot(bidirectional_epoch_range, bidirectional_val_accuracy,\n",
        "         color=\"blue\", linestyle=\"dashed\", label=\"Validation Accuracy\")\n",
        "plt.title(\"Bidirectional Model: Accuracy\")\n",
        "plt.legend()\n",
        "\n",
        "# Plot loss\n",
        "plt.figure(figsize=(6, 4))\n",
        "plt.plot(bidirectional_epoch_range, bidirectional_train_loss,\n",
        "         color=\"grey\", linestyle=\"dashed\", label=\"Training Loss\")\n",
        "plt.plot(bidirectional_epoch_range, bidirectional_val_loss,\n",
        "         color=\"blue\", linestyle=\"dashed\", label=\"Validation Loss\")\n",
        "plt.title(\"Bidirectional Model: Loss\")\n",
        "plt.legend()\n",
        "\n",
        "plt.show()"
      ]
    },
    {
      "cell_type": "code",
      "execution_count": null,
      "metadata": {
        "id": "A3_yJcSPLLOv"
      },
      "outputs": [],
      "source": [
        "from tensorflow.keras.models import load_model\n",
        "\n",
        "# Load the trained bidirectional model\n",
        "trained_bidirectional_model = load_model('best_bidirectional_model.h5')\n",
        "\n",
        "# Evaluate model performance\n",
        "bidirectional_evaluation = trained_bidirectional_model.evaluate(final_test_reviews, final_test_labels)\n",
        "print(f'Test Loss: {bidirectional_evaluation[0]:.3f}')\n",
        "print(f'Test Accuracy: {bidirectional_evaluation[1]:.3f}')"
      ]
    },
    {
      "cell_type": "markdown",
      "metadata": {
        "id": "EH9u76okLhjj"
      },
      "source": [
        "**Model 5: LSTM Model with Embedding Layer (Training Sample Size: 15,000)**"
      ]
    },
    {
      "cell_type": "code",
      "execution_count": null,
      "metadata": {
        "id": "1jkf1bQwLkh2"
      },
      "outputs": [],
      "source": [
        "from tensorflow.keras import layers, Input, Model\n",
        "\n",
        "MAX_SEQUENCE_LENGTH = 150\n",
        "VOCAB_SIZE = 10000\n",
        "\n",
        "# Input layer\n",
        "text_input = Input(shape=(None,), dtype=\"int64\", name=\"text_input\")\n",
        "\n",
        "# Embedding layer\n",
        "word_embeddings = layers.Embedding(\n",
        "    input_dim=VOCAB_SIZE,\n",
        "    output_dim=128,\n",
        "    name=\"embedding_layer\"\n",
        ")(text_input)\n",
        "\n",
        "# Bidirectional LSTM layer\n",
        "bidirectional_lstm = layers.Bidirectional(\n",
        "    layers.LSTM(64, name=\"lstm_layer\"),\n",
        "    name=\"bidirectional_layer\"\n",
        ")(word_embeddings)\n",
        "\n",
        "# Dropout layer\n",
        "regularized_features = layers.Dropout(\n",
        "    0.4,\n",
        "    name=\"dropout_layer\"\n",
        ")(bidirectional_lstm)\n",
        "\n",
        "# Output layer\n",
        "sentiment_prediction = layers.Dense(\n",
        "    1,\n",
        "    activation=\"sigmoid\",\n",
        "    name=\"output_layer\"\n",
        ")(regularized_features)\n",
        "\n",
        "# Create and compile model\n",
        "sentiment_classifier = Model(\n",
        "    inputs=text_input,\n",
        "    outputs=sentiment_prediction,\n",
        "    name=\"sentiment_classifier\"\n",
        ")\n",
        "\n",
        "sentiment_classifier.compile(\n",
        "    optimizer=\"adam\",\n",
        "    loss=\"binary_crossentropy\",\n",
        "    metrics=[\"accuracy\"]\n",
        ")\n",
        "\n",
        "sentiment_classifier.summary()"
      ]
    },
    {
      "cell_type": "code",
      "execution_count": null,
      "metadata": {
        "id": "WboqKomZL3Pm"
      },
      "outputs": [],
      "source": [
        "from tensorflow.keras.callbacks import ModelCheckpoint\n",
        "from sklearn.model_selection import train_test_split\n",
        "import numpy as np\n",
        "\n",
        "VOCAB_SIZE = 10000\n",
        "MAX_SEQUENCE_LENGTH = 150\n",
        "\n",
        "# Generate random training data (now with 15,000 training samples)\n",
        "random_texts = np.random.randint(1, VOCAB_SIZE, size=(25000, MAX_SEQUENCE_LENGTH))  # 25k total (15k train + 10k val)\n",
        "random_labels = np.random.randint(0, 2, size=(25000,))\n",
        "\n",
        "# Split into training (15,000) and validation (10,000) sets\n",
        "train_texts, val_texts, train_labels, val_labels = train_test_split(\n",
        "    random_texts, random_labels,\n",
        "    train_size=15000,\n",
        "    test_size=10000,\n",
        "    random_state=42\n",
        ")\n",
        "\n",
        "# Configure model checkpoint\n",
        "model_checkpoint = ModelCheckpoint(\n",
        "    filepath=\"best_sentiment_classifier.keras\",\n",
        "    save_best_only=True,\n",
        "    monitor=\"val_loss\",\n",
        "    mode=\"min\"\n",
        ")\n",
        "\n",
        "# Train the model\n",
        "model_training_history = sentiment_classifier.fit(\n",
        "    x=train_texts,\n",
        "    y=train_labels,\n",
        "    epochs=10,\n",
        "    batch_size=32,\n",
        "    validation_data=(val_texts, val_labels),\n",
        "    callbacks=[model_checkpoint]\n",
        ")\n",
        "\n",
        "print(\"Training complete. History:\", model_training_history.history)"
      ]
    },
    {
      "cell_type": "code",
      "execution_count": null,
      "metadata": {
        "id": "vpjghPknMTGM"
      },
      "outputs": [],
      "source": [
        "import matplotlib.pyplot as plt\n",
        "\n",
        "# Extract training metrics\n",
        "train_acc = model_training_history.history['accuracy']\n",
        "val_acc = model_training_history.history['val_accuracy']\n",
        "train_loss = model_training_history.history['loss']\n",
        "val_loss = model_training_history.history['val_loss']\n",
        "\n",
        "# Create epoch range\n",
        "epoch_range = range(1, len(train_acc) + 1)\n",
        "\n",
        "# Plot accuracy\n",
        "plt.figure(figsize=(8, 6))\n",
        "plt.plot(epoch_range, train_acc, label='Training Accuracy', color='green', marker='o')\n",
        "plt.plot(epoch_range, val_acc, label='Validation Accuracy', color='blue', marker='o')\n",
        "plt.title('Training and Validation Accuracy')\n",
        "plt.xlabel('Epochs')\n",
        "plt.ylabel('Accuracy')\n",
        "plt.legend()\n",
        "plt.grid(True)\n",
        "plt.show()\n",
        "\n",
        "# Plot loss\n",
        "plt.figure(figsize=(8, 6))\n",
        "plt.plot(epoch_range, train_loss, label='Training Loss', color='red', marker='o')\n",
        "plt.plot(epoch_range, val_loss, label='Validation Loss', color='blue', marker='o')\n",
        "plt.title('Training and Validation Loss')\n",
        "plt.xlabel('Epochs')\n",
        "plt.ylabel('Loss')\n",
        "plt.legend()\n",
        "plt.grid(True)\n",
        "plt.show()"
      ]
    },
    {
      "cell_type": "code",
      "execution_count": null,
      "metadata": {
        "id": "SbmmrQv_NS8Q"
      },
      "outputs": [],
      "source": [
        "# Generate test data\n",
        "test_texts = np.random.randint(1, VOCAB_SIZE, size=(5000, MAX_SEQUENCE_LENGTH))\n",
        "test_labels = np.random.randint(0, 2, size=(5000,))\n",
        "\n",
        "# Load the trained model\n",
        "trained_sentiment_model = load_model(\"best_sentiment_classifier.keras\")\n",
        "\n",
        "# Evaluate model performance\n",
        "model_test_loss, model_test_accuracy = trained_sentiment_model.evaluate(\n",
        "    test_texts,\n",
        "    test_labels,\n",
        "    batch_size=32\n",
        ")\n",
        "\n",
        "print(f\"Test Loss: {model_test_loss:.3f}\")\n",
        "print(f\"Test Accuracy: {model_test_accuracy:.3f}\")"
      ]
    },
    {
      "cell_type": "markdown",
      "metadata": {
        "id": "gQWT03SANakw"
      },
      "source": [
        "**Model 6: LSTM Model with Embedding Layer (Training Sample Size: 25,000)**"
      ]
    },
    {
      "cell_type": "code",
      "execution_count": null,
      "metadata": {
        "id": "sQ4nhM-INhP-"
      },
      "outputs": [],
      "source": [
        "from tensorflow.keras.datasets import imdb\n",
        "from tensorflow.keras.preprocessing.sequence import pad_sequences\n",
        "from sklearn.model_selection import train_test_split\n",
        "import numpy as np\n",
        "\n",
        "VOCAB_SIZE = 10000\n",
        "MAX_SEQUENCE_LENGTH = 150\n",
        "\n",
        "# Load and prepare IMDB dataset\n",
        "(raw_train_reviews, raw_train_sentiments), (raw_test_reviews, raw_test_sentiments) = imdb.load_data(num_words=VOCAB_SIZE)\n",
        "\n",
        "# Pad sequences to uniform length\n",
        "padded_train_reviews = pad_sequences(raw_train_reviews, maxlen=MAX_SEQUENCE_LENGTH)\n",
        "padded_test_reviews = pad_sequences(raw_test_reviews, maxlen=MAX_SEQUENCE_LENGTH)\n",
        "\n",
        "# Combine all data\n",
        "all_reviews = np.concatenate((padded_train_reviews, padded_test_reviews), axis=0)\n",
        "all_sentiments = np.concatenate((raw_train_sentiments, raw_test_sentiments), axis=0)\n",
        "\n",
        "# Split into training and validation sets\n",
        "train_reviews, val_reviews, train_sentiments, val_sentiments = train_test_split(\n",
        "    all_reviews, all_sentiments,\n",
        "    train_size=25000,\n",
        "    test_size=10000,\n",
        "    random_state=42,\n",
        "    stratify=all_sentiments\n",
        ")\n",
        "\n",
        "# Create final test set\n",
        "_, final_test_reviews, _, final_test_sentiments = train_test_split(\n",
        "    padded_test_reviews,\n",
        "    raw_test_sentiments,\n",
        "    test_size=5000,\n",
        "    random_state=42,\n",
        "    stratify=raw_test_sentiments\n",
        ")"
      ]
    },
    {
      "cell_type": "code",
      "execution_count": null,
      "metadata": {
        "id": "tsZhag_xO1Tp"
      },
      "outputs": [],
      "source": [
        "train_reviews.shape"
      ]
    },
    {
      "cell_type": "code",
      "execution_count": null,
      "metadata": {
        "id": "1d7hvjvRO7Hj"
      },
      "outputs": [],
      "source": [
        "val_reviews.shape"
      ]
    },
    {
      "cell_type": "code",
      "execution_count": null,
      "metadata": {
        "id": "qFj3wjLqO_Na"
      },
      "outputs": [],
      "source": [
        "from tensorflow.keras import layers, models\n",
        "\n",
        "max_sequence_len = 150\n",
        "vocabulary_size = 10000\n",
        "\n",
        "input_seq = layers.Input(shape=(None,), dtype=\"int64\")\n",
        "embedding_seq = layers.Embedding(input_dim=vocabulary_size, output_dim=256)(input_seq)\n",
        "bi_lstm = layers.Bidirectional(layers.LSTM(32))(embedding_seq)\n",
        "dropout_output = layers.Dropout(0.5)(bi_lstm)\n",
        "final_output = layers.Dense(1, activation=\"sigmoid\")(dropout_output)\n",
        "\n",
        "text_classification_model = models.Model(inputs=input_seq, outputs=final_output)\n",
        "text_classification_model.compile(\n",
        "    optimizer=\"rmsprop\",\n",
        "    loss=\"binary_crossentropy\",\n",
        "    metrics=[\"accuracy\"]\n",
        ")\n",
        "\n",
        "text_classification_model.summary()\n"
      ]
    },
    {
      "cell_type": "code",
      "execution_count": null,
      "metadata": {
        "id": "WjTAk6WGRWcW"
      },
      "outputs": [],
      "source": [
        "from tensorflow.keras.callbacks import ModelCheckpoint\n",
        "\n",
        "model_checkpoint = ModelCheckpoint(\n",
        "    filepath=\"best_model.h5\",\n",
        "    save_best_only=True,\n",
        "    monitor=\"val_loss\"\n",
        ")\n",
        "\n",
        "history = text_classification_model.fit(\n",
        "    x=train_reviews,\n",
        "    y=train_sentiments,\n",
        "    epochs=10,\n",
        "    batch_size=42,\n",
        "    validation_data=(val_reviews, val_sentiments),\n",
        "    callbacks=[model_checkpoint]\n",
        ")\n"
      ]
    },
    {
      "cell_type": "code",
      "execution_count": null,
      "metadata": {
        "id": "-FhB91D2SQyu"
      },
      "outputs": [],
      "source": [
        "\n",
        "import matplotlib.pyplot as plt\n",
        "\n",
        "training_acc = history.history['accuracy']\n",
        "validation_acc = history.history['val_accuracy']\n",
        "\n",
        "training_loss = history.history[\"loss\"]\n",
        "validation_loss = history.history[\"val_loss\"]\n",
        "\n",
        "epoch_range = range(1, len(train_accuracy) + 1)\n",
        "\n",
        "plt.figure(figsize=(6, 4))\n",
        "plt.plot(epoch_range, training_acc, color=\"green\", linestyle=\"dashed\", label=\"Training Accuracy\")\n",
        "plt.plot(epoch_range, validation_acc, color=\"blue\", linestyle=\"dashed\", label=\"Validation Accuracy\")\n",
        "plt.title(\"Training and Validation Accuracy\")\n",
        "plt.xlabel(\"Epochs\")\n",
        "plt.ylabel(\"Accuracy\")\n",
        "plt.legend()\n",
        "plt.grid()\n",
        "plt.show()\n",
        "\n",
        "plt.figure(figsize=(6, 4))\n",
        "plt.plot(epoch_range, training_loss, color=\"red\", linestyle=\"dashed\", label=\"Training Loss\")\n",
        "plt.plot(epoch_range, validation_loss, color=\"blue\", linestyle=\"dashed\", label=\"Validation Loss\")\n",
        "plt.title(\"Training and Validation Loss\")\n",
        "plt.xlabel(\"Epochs\")\n",
        "plt.ylabel(\"Loss\")\n",
        "plt.legend()\n",
        "plt.grid()\n",
        "plt.show()"
      ]
    },
    {
      "cell_type": "code",
      "execution_count": null,
      "metadata": {
        "id": "gN66-RYNTB8P"
      },
      "outputs": [],
      "source": [
        "from tensorflow.keras.models import load_model\n",
        "\n",
        "best_trained_model = load_model('best_model.h5')\n",
        "\n",
        "evaluation_results = best_trained_model.evaluate(final_test_reviews, final_test_sentiments)\n",
        "\n",
        "print(f\"Test Loss: {evaluation_results[0]:.3f}\")\n",
        "print(f\"Test Accuracy: {evaluation_results[1]:.3f}\")\n"
      ]
    },
    {
      "cell_type": "markdown",
      "source": [
        "**Model 7**"
      ],
      "metadata": {
        "id": "S132QW5Er1P0"
      }
    },
    {
      "cell_type": "code",
      "source": [
        "from tensorflow.keras import layers, models\n",
        "\n",
        "model_input = layers.Input(shape=(None,), dtype=\"int64\")\n",
        "word_embedding = layers.Embedding(\n",
        "    input_dim=vocab_size,\n",
        "    output_dim=256,\n",
        "    mask_zero=True\n",
        ")(model_input)\n",
        "\n",
        "bilstm_layer = layers.Bidirectional(layers.LSTM(32))(word_embedding)\n",
        "regularized_layer = layers.Dropout(0.5)(bilstm_layer)\n",
        "\n",
        "classification_output = layers.Dense(1, activation=\"sigmoid\")(regularized_layer)\n",
        "\n",
        "text_classifier = models.Model(inputs=model_input, outputs=classification_output)\n",
        "text_classifier.compile(\n",
        "    optimizer=\"rmsprop\",\n",
        "    loss=\"binary_crossentropy\",\n",
        "    metrics=[\"accuracy\"]\n",
        ")\n",
        "\n",
        "text_classifier.summary()"
      ],
      "metadata": {
        "id": "82PI-50Zr6DD"
      },
      "execution_count": null,
      "outputs": []
    },
    {
      "cell_type": "code",
      "source": [
        "from tensorflow.keras.callbacks import ModelCheckpoint\n",
        "\n",
        "checkpoint_callback = ModelCheckpoint(\n",
        "    filepath=\"Model7.h5\",\n",
        "    save_best_only=True,\n",
        "    monitor=\"val_loss\"\n",
        ")\n",
        "\n",
        "training_history = text_classifier.fit(\n",
        "    x=train_texts,\n",
        "    y=train_labels,\n",
        "    epochs=10,\n",
        "    batch_size=42,\n",
        "    validation_data=(val_texts, val_labels),\n",
        "    callbacks=[checkpoint_callback]\n",
        ")"
      ],
      "metadata": {
        "id": "L7F--K3zsLwE"
      },
      "execution_count": null,
      "outputs": []
    },
    {
      "cell_type": "code",
      "source": [
        "train_acc = training_history.history['accuracy']\n",
        "val_acc = training_history.history['val_accuracy']\n",
        "\n",
        "train_loss = training_history.history[\"loss\"]\n",
        "val_loss = training_history.history[\"val_loss\"]\n",
        "\n",
        "epochs = range(1, len(train_acc) + 1)\n",
        "\n",
        "plt.figure(figsize=(6, 4))\n",
        "plt.plot(epochs, train_acc, color=\"green\", linestyle=\"dashed\", label=\"Training Accuracy\")\n",
        "plt.plot(epochs, val_acc, color=\"blue\", linestyle=\"dashed\", label=\"Validation Accuracy\")\n",
        "plt.title(\"Training and Validation Accuracy\")\n",
        "plt.xlabel(\"Epochs\")\n",
        "plt.ylabel(\"Accuracy\")\n",
        "plt.legend()\n",
        "plt.grid()\n",
        "plt.show()\n",
        "\n",
        "plt.figure(figsize=(6, 4))\n",
        "plt.plot(epochs, train_loss, color=\"red\", linestyle=\"dashed\", label=\"Training Loss\")\n",
        "plt.plot(epochs, val_loss, color=\"blue\", linestyle=\"dashed\", label=\"Validation Loss\")\n",
        "plt.title(\"Training and Validation Loss\")\n",
        "plt.xlabel(\"Epochs\")\n",
        "plt.ylabel(\"Loss\")\n",
        "plt.legend()\n",
        "plt.grid()\n",
        "plt.show()"
      ],
      "metadata": {
        "id": "lLm1hPbDsQ3A"
      },
      "execution_count": null,
      "outputs": []
    },
    {
      "cell_type": "code",
      "source": [
        "from tensorflow.keras.models import load_model\n",
        "\n",
        "trained_model = load_model('Model7.h5')\n",
        "\n",
        "eval_results = trained_model.evaluate(test_texts, test_labels)\n",
        "\n",
        "print(f\"Test Loss: {eval_results[0]:.3f}\")\n",
        "print(f\"Test Accuracy: {eval_results[1]:.3f}\")"
      ],
      "metadata": {
        "id": "b2RPBrUasg2s"
      },
      "execution_count": null,
      "outputs": []
    },
    {
      "cell_type": "code",
      "source": [
        "!curl -O https://ai.stanford.edu/~amaas/data/sentiment/aclImdb_v1.tar.gz\n",
        "!tar -xf aclImdb_v1.tar.gz\n",
        "!rm -r aclImdb/train/unsup\n"
      ],
      "metadata": {
        "id": "2Ty7tAuEtIst"
      },
      "execution_count": null,
      "outputs": []
    },
    {
      "cell_type": "code",
      "source": [
        "dataset_dir = '/content/aclImdb'\n",
        "training_dir = os.path.join(dataset_dir, 'train')\n",
        "\n",
        "sentiments = []\n",
        "reviews = []\n",
        "\n",
        "for sentiment in ['neg', 'pos']:\n",
        "    sentiment_dir = os.path.join(training_dir, sentiment)\n",
        "    for filename in os.listdir(sentiment_dir):\n",
        "        if filename[-4:] == '.txt':\n",
        "            file = open(os.path.join(sentiment_dir, filename))\n",
        "            reviews.append(file.read())\n",
        "            file.close()\n",
        "            if sentiment == 'neg':\n",
        "                sentiments.append(0)\n",
        "            else:\n",
        "                sentiments.append(1)"
      ],
      "metadata": {
        "id": "LH9toh8ntQDB"
      },
      "execution_count": null,
      "outputs": []
    },
    {
      "cell_type": "code",
      "source": [
        "max_len = 150\n",
        "num_train = 100\n",
        "num_val = 10000\n",
        "vocab_size = 10000\n",
        "\n",
        "text_tokenizer = Tokenizer(num_words=vocab_size)\n",
        "text_tokenizer.fit_on_texts(reviews)\n",
        "token_sequences = text_tokenizer.texts_to_sequences(reviews)\n",
        "\n",
        "vocab = text_tokenizer.word_index\n",
        "print('Found %s unique tokens.' % len(vocab))\n",
        "\n",
        "padded_data = pad_sequences(token_sequences, maxlen=max_len)\n",
        "\n",
        "sentiments = np.asarray(sentiments)\n",
        "print('Shape of data tensor:', padded_data.shape)\n",
        "print('Shape of label tensor:', sentiments.shape)\n",
        "\n",
        "shuffle_idx = np.arange(padded_data.shape[0])\n",
        "np.random.shuffle(shuffle_idx)\n",
        "padded_data = padded_data[shuffle_idx]\n",
        "sentiments = sentiments[shuffle_idx]\n",
        "\n",
        "train_data = padded_data[:num_train]\n",
        "train_labels = sentiments[:num_train]\n",
        "val_data = padded_data[num_train: num_train + num_val]\n",
        "val_labels = sentiments[num_train: num_train + num_val]\n",
        "\n",
        "test_dir = os.path.join(dataset_dir, 'test')\n",
        "\n",
        "test_sentiments = []\n",
        "test_reviews = []\n",
        "\n",
        "for sentiment in ['neg', 'pos']:\n",
        "    test_sentiment_dir = os.path.join(test_dir, sentiment)\n",
        "    for filename in sorted(os.listdir(test_sentiment_dir)):\n",
        "        if filename[-4:] == '.txt':\n",
        "            text_file = open(os.path.join(test_sentiment_dir, filename))\n",
        "            test_reviews.append(text_file.read())\n",
        "            text_file.close()\n",
        "            if sentiment == 'neg':\n",
        "                test_sentiments.append(0)\n",
        "            else:\n",
        "                test_sentiments.append(1)\n",
        "\n",
        "test_sequences = text_tokenizer.texts_to_sequences(test_reviews)\n",
        "test_data = pad_sequences(test_sequences, maxlen=max_len)[:5000]\n",
        "test_labels = np.asarray(test_sentiments)[:5000]"
      ],
      "metadata": {
        "id": "XBNoK7tktdq5"
      },
      "execution_count": null,
      "outputs": []
    },
    {
      "cell_type": "code",
      "source": [
        "train_data.Shape\n",
        "val_data.Shape\n",
        "test_data.Shape"
      ],
      "metadata": {
        "id": "pvozn2KEt4P_"
      },
      "execution_count": null,
      "outputs": []
    },
    {
      "cell_type": "markdown",
      "metadata": {
        "id": "roBmH9iCx2SN"
      },
      "source": [
        "#### Using pretrained word embeddings"
      ]
    },
    {
      "cell_type": "code",
      "execution_count": null,
      "metadata": {
        "id": "dnEQrrrbx2SN"
      },
      "outputs": [],
      "source": [
        "!wget http://nlp.stanford.edu/data/glove.6B.zip\n",
        "!unzip -q glove.6B.zip"
      ]
    },
    {
      "cell_type": "markdown",
      "metadata": {
        "id": "kot6rEEXx2SO"
      },
      "source": [
        "**Parsing the GloVe word-embeddings file**"
      ]
    },
    {
      "cell_type": "code",
      "execution_count": null,
      "metadata": {
        "id": "exAPtbITx2SO"
      },
      "outputs": [],
      "source": [
        "import numpy as np\n",
        "path_to_glove_file = \"glove.6B.100d.txt\"\n",
        "\n",
        "embeddings_index = {}\n",
        "with open(path_to_glove_file) as f:\n",
        "    for line in f:\n",
        "        word, coefs = line.split(maxsplit=1)\n",
        "        coefs = np.fromstring(coefs, \"f\", sep=\" \")\n",
        "        embeddings_index[word] = coefs\n",
        "\n",
        "print(f\"Found {len(embeddings_index)} word vectors.\")"
      ]
    },
    {
      "cell_type": "markdown",
      "metadata": {
        "id": "IXwPLeAsx2SO"
      },
      "source": [
        "**Preparing the GloVe word-embeddings matrix**"
      ]
    },
    {
      "cell_type": "code",
      "execution_count": null,
      "metadata": {
        "id": "f4vE3XpKx2SP"
      },
      "outputs": [],
      "source": [
        "embedding_dim = 100\n",
        "\n",
        "embedding_matrix = np.zeros((vocab_size, embedding_dim))\n",
        "for word, i in vocab_size.items():\n",
        "    embedding_vector = embeddings_index.get(word)\n",
        "    if i < vocab_size:\n",
        "        if embedding_vector is not None:\n",
        "\n",
        "            embedding_matrix[i] = embedding_vector"
      ]
    },
    {
      "cell_type": "code",
      "execution_count": null,
      "metadata": {
        "id": "c1JmumBQx2SP"
      },
      "outputs": [],
      "source": [
        "embedding_layer = layers.Embedding(\n",
        "    max_tokens,\n",
        "    embedding_dim,\n",
        "    embeddings_initializer=keras.initializers.Constant(embedding_matrix),\n",
        "    trainable=False,\n",
        "    mask_zero=True,\n",
        ")"
      ]
    },
    {
      "cell_type": "markdown",
      "source": [
        "Model 8"
      ],
      "metadata": {
        "id": "5kSF3HEZve1i"
      }
    },
    {
      "cell_type": "code",
      "source": [
        "sentiment_model = Sequential()\n",
        "sentiment_model.add(Embedding(vocab_size, embedding_dim, input_length=max_len))\n",
        "sentiment_model.add(LSTM(32))\n",
        "sentiment_model.add(Dense(1, activation='sigmoid'))\n",
        "\n",
        "# Freeze embedding layer with pretrained weights\n",
        "sentiment_model.layers[0].set_weights([embedding_matrix])\n",
        "sentiment_model.layers[0].trainable = False\n",
        "\n",
        "# Configure model training\n",
        "adam_optimizer = keras.optimizers.Adam(learning_rate=0.0001)\n",
        "sentiment_model.compile(optimizer=adam_optimizer,\n",
        "                      loss='binary_crossentropy',\n",
        "                      metrics=['accuracy'])\n",
        "sentiment_model.summary()"
      ],
      "metadata": {
        "id": "tEmmlH-mvgxy"
      },
      "execution_count": null,
      "outputs": []
    },
    {
      "cell_type": "code",
      "source": [
        "model_checkpoint = ModelCheckpoint(\n",
        "    filepath=\"pretrainmodel1.keras\",\n",
        "    save_best_only=True,\n",
        "    monitor=\"val_loss\"\n",
        ")\n",
        "\n",
        "pretrain_history = sentiment_model.fit(\n",
        "    train_data,\n",
        "    train_labels,\n",
        "    epochs=30,\n",
        "    batch_size=32,\n",
        "    validation_data=(val_data, val_labels),\n",
        "    callbacks=[model_checkpoint]\n",
        ")"
      ],
      "metadata": {
        "id": "K93NzU7nwDFF"
      },
      "execution_count": null,
      "outputs": []
    },
    {
      "cell_type": "code",
      "source": [
        "train_acc = pretrain_history.history['accuracy']\n",
        "val_acc = pretrain_history.history['val_accuracy']\n",
        "\n",
        "train_loss = pretrain_history.history[\"loss\"]\n",
        "val_loss = pretrain_history.history[\"val_loss\"]\n",
        "\n",
        "epochs_range = range(1, len(train_acc) + 1)\n",
        "\n",
        "plt.figure(figsize=(6,4))\n",
        "plt.plot(epochs_range, train_acc, color=\"green\", linestyle=\"dashed\", label=\"Training Accuracy\")\n",
        "plt.plot(epochs_range, val_acc, color=\"blue\", linestyle=\"dashed\", label=\"Validation Accuracy\")\n",
        "plt.title(\"Pretrained Model: Accuracy\")\n",
        "plt.legend()\n",
        "plt.figure()\n",
        "\n",
        "plt.figure(figsize=(6,4))\n",
        "plt.plot(epochs_range, train_loss, color=\"red\", linestyle=\"dashed\", label=\"Training Loss\")\n",
        "plt.plot(epochs_range, val_loss, color=\"blue\", linestyle=\"dashed\", label=\"Validation Loss\")\n",
        "plt.title(\"Pretrained Model: Loss\")\n",
        "plt.legend()\n",
        "plt.show()"
      ],
      "metadata": {
        "id": "suimtSUZwD7F"
      },
      "execution_count": null,
      "outputs": []
    },
    {
      "cell_type": "code",
      "source": [
        "pretrained_model = load_model('pretrainmodel1.keras')\n",
        "evaluation_results = pretrained_model.evaluate(test_data, test_labels)\n",
        "print(f'Test Loss: {evaluation_results[0]:.3f}')\n",
        "print(f'Test Accuracy: {evaluation_results[1]:.3f}')"
      ],
      "metadata": {
        "id": "OlDixkuzwVPY"
      },
      "execution_count": null,
      "outputs": []
    },
    {
      "cell_type": "markdown",
      "source": [
        "**Model 9: Training a Pretrained Model with 4 LSTM Hidden Layers on a 10,000-Sample Dataset**"
      ],
      "metadata": {
        "id": "UaFCrfA8xD90"
      }
    },
    {
      "cell_type": "code",
      "source": [
        "import numpy as np\n",
        "from tensorflow.keras.preprocessing.text import Tokenizer\n",
        "from tensorflow.keras.preprocessing.sequence import pad_sequences\n",
        "\n",
        "# Example text data (replace with your actual data)\n",
        "sample_texts = [\"This is the first text.\", \"Another example text.\", \"Text data for training.\"]\n",
        "sample_labels = [0, 1, 0]  # Example labels (replace with your actual labels)\n",
        "\n",
        "# Parameters\n",
        "max_seq_length = 150\n",
        "num_training_samples = 10000\n",
        "num_validation_samples = 10000\n",
        "vocabulary_size = 10000\n",
        "\n",
        "# Tokenizer for text preprocessing\n",
        "text_tokenizer = Tokenizer(num_words=vocabulary_size)\n",
        "text_tokenizer.fit_on_texts(sample_texts)  # Fit the tokenizer on your text data\n",
        "token_sequences = text_tokenizer.texts_to_sequences(sample_texts)\n",
        "\n",
        "# Get word index\n",
        "vocabulary = text_tokenizer.word_index\n",
        "print(f'Found {len(vocabulary)} unique tokens.')\n",
        "\n",
        "# Pad sequences to ensure uniform input length\n",
        "padded_sequences = pad_sequences(token_sequences, maxlen=max_seq_length)\n",
        "\n",
        "# Convert labels to numpy array\n",
        "label_array = np.asarray(sample_labels)\n",
        "print('Shape of data tensor:', padded_sequences.shape)\n",
        "print('Shape of label tensor:', label_array.shape)\n",
        "\n",
        "# Shuffle the data and labels\n",
        "shuffled_indices = np.arange(padded_sequences.shape[0])\n",
        "np.random.shuffle(shuffled_indices)\n",
        "padded_sequences = padded_sequences[shuffled_indices]\n",
        "label_array = label_array[shuffled_indices]\n",
        "\n",
        "# Split into training and validation sets\n",
        "training_data = padded_sequences[:num_training_samples]\n",
        "training_labels = label_array[:num_training_samples]\n",
        "validation_data = padded_sequences[num_training_samples: num_training_samples + num_validation_samples]\n",
        "validation_labels = label_array[num_training_samples: num_training_samples + num_validation_samples]"
      ],
      "metadata": {
        "id": "lNKkxc7GxLfN"
      },
      "execution_count": null,
      "outputs": []
    },
    {
      "cell_type": "code",
      "source": [
        "training_data.Shape\n",
        "validation_data.Shape"
      ],
      "metadata": {
        "id": "Gu-CY1YjxdK6"
      },
      "execution_count": null,
      "outputs": []
    },
    {
      "cell_type": "code",
      "source": [
        "from tensorflow.keras.models import Sequential\n",
        "from tensorflow.keras.layers import Embedding, LSTM, Dropout, Dense\n",
        "from tensorflow.keras import optimizers\n",
        "\n",
        "vocab_size = 10000\n",
        "embedding_dims = 150\n",
        "max_seq_length = 150\n",
        "\n",
        "embedding_weights = np.random.rand(vocab_size, embedding_dims)\n",
        "\n",
        "sentiment_classifier = Sequential()\n",
        "sentiment_classifier.add(Embedding(vocab_size, embedding_dims, input_length=max_seq_length))\n",
        "\n",
        "sentiment_classifier.add(LSTM(512, return_sequences=True))\n",
        "sentiment_classifier.add(Dropout(0.5))\n",
        "\n",
        "sentiment_classifier.add(LSTM(256, return_sequences=True))\n",
        "sentiment_classifier.add(Dropout(0.5))\n",
        "\n",
        "sentiment_classifier.add(LSTM(128, return_sequences=True))\n",
        "sentiment_classifier.add(Dropout(0.5))\n",
        "\n",
        "sentiment_classifier.add(LSTM(128))\n",
        "\n",
        "sentiment_classifier.add(Dense(256, activation='relu'))\n",
        "sentiment_classifier.add(Dropout(0.5))\n",
        "sentiment_classifier.add(Dense(256, activation='relu'))\n",
        "sentiment_classifier.add(Dropout(0.5))\n",
        "sentiment_classifier.add(Dense(1, activation='sigmoid'))\n",
        "\n",
        "sentiment_classifier.layers[0].set_weights([embedding_weights])\n",
        "sentiment_classifier.layers[0].trainable = False\n",
        "\n",
        "adam_optimizer = optimizers.Adam(learning_rate=0.0001)\n",
        "sentiment_classifier.compile(optimizer=adam_optimizer,\n",
        "                           loss='binary_crossentropy',\n",
        "                           metrics=['accuracy'])\n",
        "\n",
        "sentiment_classifier.summary()"
      ],
      "metadata": {
        "id": "Tt1nILJ-xoYh"
      },
      "execution_count": null,
      "outputs": []
    },
    {
      "cell_type": "code",
      "source": [
        "model_checkpoint = ModelCheckpoint(\n",
        "    filepath=\"sentiment_model_v2.keras\",\n",
        "    save_best_only=True,\n",
        "    monitor=\"val_loss\"\n",
        ")\n",
        "\n",
        "training_history = sentiment_classifier.fit(\n",
        "    training_data,\n",
        "    training_labels,\n",
        "    epochs=10,\n",
        "    batch_size=12,\n",
        "    validation_data=(validation_data, validation_labels),\n",
        "    callbacks=[model_checkpoint]\n",
        ")"
      ],
      "metadata": {
        "id": "mezL2oxVx1i6"
      },
      "execution_count": null,
      "outputs": []
    },
    {
      "cell_type": "code",
      "source": [
        "train_acc = training_history.history['accuracy']\n",
        "train_loss = training_history.history['loss']\n",
        "epochs_range = range(1, len(train_acc) + 1)\n",
        "\n",
        "val_acc = training_history.history.get('val_accuracy', None)\n",
        "val_loss = training_history.history.get('val_loss', None)\n",
        "\n",
        "plt.figure(figsize=(6, 4))\n",
        "plt.plot(epochs_range, train_acc, color=\"grey\", linestyle=\"dashed\", label=\"Training Accuracy\")\n",
        "if val_acc is not None:\n",
        "    plt.plot(epochs_range, val_acc, color=\"blue\", linestyle=\"dashed\", label=\"Validation Accuracy\")\n",
        "plt.title(\"Sentiment Model: Accuracy\")\n",
        "plt.legend()\n",
        "plt.figure()\n",
        "\n",
        "plt.figure(figsize=(6, 4))\n",
        "plt.plot(epochs_range, train_loss, color=\"grey\", linestyle=\"dashed\", label=\"Training Loss\")\n",
        "if val_loss is not None:\n",
        "    plt.plot(epochs_range, val_loss, color=\"blue\", linestyle=\"dashed\", label=\"Validation Loss\")\n",
        "plt.title(\"Sentiment Model: Loss\")\n",
        "plt.legend()\n",
        "plt.show()"
      ],
      "metadata": {
        "id": "f9M2A3ftyBuA"
      },
      "execution_count": null,
      "outputs": []
    },
    {
      "cell_type": "markdown",
      "source": [
        "**Model 10 Training a Pretrained Model with 2 LSTM Hidden Layers on a 20,000-Sample Dataset**"
      ],
      "metadata": {
        "id": "vJefls7SyX3Z"
      }
    },
    {
      "cell_type": "code",
      "source": [
        "max_sequence_length = 150\n",
        "num_train_samples = 20000\n",
        "num_val_samples = 10000\n",
        "vocab_size = 10000\n",
        "\n",
        "text_tokenizer = Tokenizer(num_words=vocab_size)\n",
        "text_tokenizer.fit_on_texts(text_corpus)\n",
        "token_sequences = text_tokenizer.texts_to_sequences(text_corpus)\n",
        "\n",
        "vocab_dict = text_tokenizer.word_index\n",
        "print(f'Found {len(vocab_dict)} unique tokens.')\n",
        "\n",
        "padded_sequences = pad_sequences(token_sequences, maxlen=max_sequence_length)\n",
        "\n",
        "label_array = np.asarray(sentiment_labels)\n",
        "print(f'Shape of data tensor: {padded_sequences.shape}')\n",
        "print(f'Shape of label tensor: {label_array.shape}')\n",
        "\n",
        "shuffled_indices = np.arange(padded_sequences.shape[0])\n",
        "np.random.shuffle(shuffled_indices)\n",
        "padded_sequences = padded_sequences[shuffled_indices]\n",
        "label_array = label_array[shuffled_indices]\n",
        "\n",
        "train_features = padded_sequences[:num_train_samples]\n",
        "train_labels = label_array[:num_train_samples]\n",
        "val_features = padded_sequences[num_train_samples: num_train_samples + num_val_samples]\n",
        "val_labels = label_array[num_train_samples: num_train_samples + num_val_samples]"
      ],
      "metadata": {
        "id": "JTvdoR8Xy1oJ"
      },
      "execution_count": null,
      "outputs": []
    },
    {
      "cell_type": "code",
      "source": [
        "train_features.Shape\n",
        "val_features.Shape"
      ],
      "metadata": {
        "id": "Z7IcfNqFy8sS"
      },
      "execution_count": null,
      "outputs": []
    },
    {
      "cell_type": "code",
      "source": [
        "sentiment_analyzer = Sequential()\n",
        "sentiment_analyzer.add(Embedding(vocab_size, embedding_dims, input_length=max_sequence_length))\n",
        "\n",
        "sentiment_analyzer.add(LSTM(64, return_sequences=True, dropout=0.2, recurrent_dropout=0.2))\n",
        "sentiment_analyzer.add(LSTM(32, dropout=0.2, recurrent_dropout=0.2))\n",
        "\n",
        "sentiment_analyzer.add(Dense(64, activation='relu'))\n",
        "sentiment_analyzer.add(Dropout(0.5))\n",
        "sentiment_analyzer.add(Dense(1, activation='sigmoid'))\n",
        "\n",
        "# Set pretrained embeddings and freeze layer\n",
        "sentiment_analyzer.layers[0].set_weights([embedding_weights])\n",
        "sentiment_analyzer.layers[0].trainable = False\n",
        "\n",
        "# Configure optimizer and compile model\n",
        "adam_opt = keras.optimizers.Adam(learning_rate=0.001)\n",
        "sentiment_analyzer.compile(\n",
        "    optimizer=adam_opt,\n",
        "    loss='binary_crossentropy',\n",
        "    metrics=['accuracy']\n",
        ")\n",
        "sentiment_analyzer.summary()"
      ],
      "metadata": {
        "id": "ISoAmv7ky_3P"
      },
      "execution_count": null,
      "outputs": []
    },
    {
      "cell_type": "code",
      "source": [
        "checkpoint_callback = ModelCheckpoint(\n",
        "    filepath=\"sentiment_model_v3.h5\",\n",
        "    save_best_only=True,\n",
        "    monitor=\"val_loss\"\n",
        ")\n",
        "\n",
        "training_results = sentiment_analyzer.fit(\n",
        "    train_features,\n",
        "    train_labels,\n",
        "    epochs=10,\n",
        "    batch_size=12,\n",
        "    validation_data=(val_features, val_labels),\n",
        "    callbacks=[checkpoint_callback]\n",
        ")"
      ],
      "metadata": {
        "id": "W80lhmb0zrVD"
      },
      "execution_count": null,
      "outputs": []
    },
    {
      "cell_type": "code",
      "source": [
        "train_metrics = training_results.history['accuracy']\n",
        "train_losses = training_results.history['loss']\n",
        "epoch_range = range(1, len(train_metrics) + 1)\n",
        "\n",
        "val_metrics = training_results.history.get('val_accuracy', None)\n",
        "val_losses = training_results.history.get('val_loss', None)\n",
        "\n",
        "plt.figure(figsize=(6, 4))\n",
        "plt.plot(epoch_range, train_metrics, color=\"green\", linestyle=\"dashed\", label=\"Training Accuracy\")\n",
        "if val_metrics is not None:\n",
        "    plt.plot(epoch_range, val_metrics, color=\"blue\", linestyle=\"dashed\", label=\"Validation Accuracy\")\n",
        "plt.title(\"Sentiment Analysis: Accuracy\")\n",
        "plt.legend()\n",
        "plt.figure()\n",
        "\n",
        "plt.figure(figsize=(6, 4))\n",
        "plt.plot(epoch_range, train_losses, color=\"red\", linestyle=\"dashed\", label=\"Training Loss\")\n",
        "if val_losses is not None:\n",
        "    plt.plot(epoch_range, val_losses, color=\"blue\", linestyle=\"dashed\", label=\"Validation Loss\")\n",
        "plt.title(\"Sentiment Analysis: Loss\")\n",
        "plt.legend()\n",
        "plt.show()"
      ],
      "metadata": {
        "id": "Uk_rR2nH0zDC"
      },
      "execution_count": null,
      "outputs": []
    }
  ],
  "metadata": {
    "colab": {
      "toc_visible": true,
      "provenance": []
    },
    "kernelspec": {
      "display_name": "Python 3",
      "name": "python3"
    },
    "language_info": {
      "codemirror_mode": {
        "name": "ipython",
        "version": 3
      },
      "file_extension": ".py",
      "mimetype": "text/x-python",
      "name": "python",
      "nbconvert_exporter": "python",
      "pygments_lexer": "ipython3",
      "version": "3.7.0"
    }
  },
  "nbformat": 4,
  "nbformat_minor": 0
}